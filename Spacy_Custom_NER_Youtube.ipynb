{
  "nbformat": 4,
  "nbformat_minor": 0,
  "metadata": {
    "colab": {
      "provenance": [],
      "include_colab_link": true
    },
    "kernelspec": {
      "name": "python3",
      "display_name": "Python 3"
    },
    "language_info": {
      "name": "python"
    }
  },
  "cells": [
    {
      "cell_type": "markdown",
      "metadata": {
        "id": "view-in-github",
        "colab_type": "text"
      },
      "source": [
        "<a href=\"https://colab.research.google.com/github/Shouvik-7/Pytorch_examples/blob/main/Spacy_Custom_NER_Youtube.ipynb\" target=\"_parent\"><img src=\"https://colab.research.google.com/assets/colab-badge.svg\" alt=\"Open In Colab\"/></a>"
      ]
    },
    {
      "cell_type": "code",
      "source": [],
      "metadata": {
        "id": "j2NdM4msQwpJ"
      },
      "execution_count": null,
      "outputs": []
    },
    {
      "cell_type": "code",
      "source": [],
      "metadata": {
        "id": "HDyASA7QQwmO"
      },
      "execution_count": null,
      "outputs": []
    },
    {
      "cell_type": "code",
      "source": [
        "# training_data.py\n",
        "\n",
        "TRAIN_DATA = [\n",
        "    (\"Google was founded by Larry Page and Sergey Brin.\", {\n",
        "        \"entities\": [(0, 6, \"ORG\"), (24, 34, \"PER\"), (39, 51, \"PER\")]\n",
        "    }),\n",
        "    (\"Facebook is based in Menlo Park.\", {\n",
        "        \"entities\": [(0, 8, \"ORG\"), (22, 32, \"GPE\")]\n",
        "    }),\n",
        "    (\"Elon Musk founded SpaceX.\", {\n",
        "        \"entities\": [(0, 9, \"PER\"), (18, 24, \"ORG\")]\n",
        "    }),\n",
        "    (\"Satya Nadella is the CEO of Microsoft.\", {\n",
        "        \"entities\": [(0, 13, \"PER\"), (31, 40, \"ORG\")]\n",
        "    }),\n",
        "    (\"New York is a large city in the USA.\", {\n",
        "        \"entities\": [(0, 8, \"GPE\"), (34, 37, \"GPE\")]\n",
        "    }),\n",
        "]\n"
      ],
      "metadata": {
        "id": "MGYNelG-Qwji"
      },
      "execution_count": null,
      "outputs": []
    },
    {
      "cell_type": "code",
      "source": [
        "# train_ner.py\n",
        "\n",
        "import spacy\n",
        "from spacy.training.example import Example\n",
        "from spacy.util import minibatch, compounding\n",
        "import random\n",
        "\n",
        "# Create a blank English model\n",
        "nlp = spacy.blank(\"en\")\n",
        "\n",
        "# Create the NER pipe and add it to the pipeline\n",
        "if \"ner\" not in nlp.pipe_names:\n",
        "    ner = nlp.add_pipe(\"ner\", last=True)\n",
        "else:\n",
        "    ner = nlp.get_pipe(\"ner\")\n",
        "\n",
        "# Add labels\n",
        "for _, annotations in TRAIN_DATA:\n",
        "    for ent in annotations.get(\"entities\"):\n",
        "        ner.add_label(ent[2])\n",
        "\n",
        "# Disable other pipeline components while training\n",
        "other_pipes = [pipe for pipe in nlp.pipe_names if pipe != \"ner\"]\n",
        "with nlp.disable_pipes(*other_pipes):\n",
        "    optimizer = nlp.begin_training()\n",
        "    for itn in range(30):  # Training iterations\n",
        "        print(f\"Iteration {itn}\")\n",
        "        random.shuffle(TRAIN_DATA)\n",
        "        losses = {}\n",
        "        batches = minibatch(TRAIN_DATA, size=compounding(2.0, 8.0, 1.5))\n",
        "        for batch in batches:\n",
        "            for text, annotations in batch:\n",
        "                doc = nlp.make_doc(text)\n",
        "                example = Example.from_dict(doc, annotations)\n",
        "                nlp.update([example], drop=0.3, losses=losses)\n",
        "        print(\"Losses\", losses)\n",
        "\n",
        "# Save the model\n",
        "nlp.to_disk(\"custom_ner_model\")\n",
        "print(\"Model saved to 'custom_ner_model'\")\n"
      ],
      "metadata": {
        "colab": {
          "base_uri": "https://localhost:8080/"
        },
        "id": "cXYcnk7YQ6C2",
        "outputId": "85869796-0a1d-4154-d614-deddb3322e37"
      },
      "execution_count": null,
      "outputs": [
        {
          "output_type": "stream",
          "name": "stdout",
          "text": [
            "Iteration 0\n",
            "Losses {'ner': np.float32(23.798244)}\n",
            "Iteration 1\n"
          ]
        },
        {
          "output_type": "stream",
          "name": "stderr",
          "text": [
            "/usr/local/lib/python3.11/dist-packages/spacy/training/iob_utils.py:149: UserWarning: [W030] Some entities could not be aligned in the text \"Satya Nadella is the CEO of Microsoft.\" with entities \"[(0, 13, 'PER'), (31, 40, 'ORG')]\". Use `spacy.training.offsets_to_biluo_tags(nlp.make_doc(text), entities)` to check the alignment. Misaligned entities ('-') will be ignored during training.\n",
            "  warnings.warn(\n",
            "/usr/local/lib/python3.11/dist-packages/spacy/training/iob_utils.py:149: UserWarning: [W030] Some entities could not be aligned in the text \"Elon Musk founded SpaceX.\" with entities \"[(0, 9, 'PER'), (18, 24, 'ORG')]\". Use `spacy.training.offsets_to_biluo_tags(nlp.make_doc(text), entities)` to check the alignment. Misaligned entities ('-') will be ignored during training.\n",
            "  warnings.warn(\n",
            "/usr/local/lib/python3.11/dist-packages/spacy/training/iob_utils.py:149: UserWarning: [W030] Some entities could not be aligned in the text \"Google was founded by Larry Page and Sergey Brin.\" with entities \"[(0, 6, 'ORG'), (24, 34, 'PER'), (39, 51, 'PER')]\". Use `spacy.training.offsets_to_biluo_tags(nlp.make_doc(text), entities)` to check the alignment. Misaligned entities ('-') will be ignored during training.\n",
            "  warnings.warn(\n"
          ]
        },
        {
          "output_type": "stream",
          "name": "stdout",
          "text": [
            "Losses {'ner': np.float32(21.034351)}\n",
            "Iteration 2\n",
            "Losses {'ner': np.float32(16.669342)}\n",
            "Iteration 3\n",
            "Losses {'ner': np.float32(9.79456)}\n",
            "Iteration 4\n",
            "Losses {'ner': np.float32(7.133154)}\n",
            "Iteration 5\n",
            "Losses {'ner': np.float32(5.64596)}\n",
            "Iteration 6\n",
            "Losses {'ner': np.float32(6.541515)}\n",
            "Iteration 7\n",
            "Losses {'ner': np.float32(14.309259)}\n",
            "Iteration 8\n",
            "Losses {'ner': np.float32(8.455862)}\n",
            "Iteration 9\n",
            "Losses {'ner': np.float32(7.0604196)}\n",
            "Iteration 10\n",
            "Losses {'ner': np.float32(5.4379606)}\n",
            "Iteration 11\n",
            "Losses {'ner': np.float32(3.0518181)}\n",
            "Iteration 12\n",
            "Losses {'ner': np.float32(1.8967929)}\n",
            "Iteration 13\n",
            "Losses {'ner': np.float32(1.3391008)}\n",
            "Iteration 14\n",
            "Losses {'ner': np.float32(1.3519479)}\n",
            "Iteration 15\n",
            "Losses {'ner': np.float32(0.9521105)}\n",
            "Iteration 16\n",
            "Losses {'ner': np.float32(2.443947)}\n",
            "Iteration 17\n",
            "Losses {'ner': np.float32(0.7021848)}\n",
            "Iteration 18\n",
            "Losses {'ner': np.float32(14.684381)}\n",
            "Iteration 19\n",
            "Losses {'ner': np.float32(2.0081055)}\n",
            "Iteration 20\n",
            "Losses {'ner': np.float32(2.365585)}\n",
            "Iteration 21\n",
            "Losses {'ner': np.float32(1.747049)}\n",
            "Iteration 22\n",
            "Losses {'ner': np.float32(0.6740363)}\n",
            "Iteration 23\n",
            "Losses {'ner': np.float32(0.5472071)}\n",
            "Iteration 24\n",
            "Losses {'ner': np.float32(0.30502483)}\n",
            "Iteration 25\n",
            "Losses {'ner': np.float32(0.65771914)}\n",
            "Iteration 26\n",
            "Losses {'ner': np.float32(0.0013831521)}\n",
            "Iteration 27\n",
            "Losses {'ner': np.float32(0.08640362)}\n",
            "Iteration 28\n",
            "Losses {'ner': np.float32(6.797757e-05)}\n",
            "Iteration 29\n",
            "Losses {'ner': np.float32(7.3612327e-06)}\n",
            "Model saved to 'custom_ner_model'\n"
          ]
        }
      ]
    },
    {
      "cell_type": "code",
      "source": [
        "# test_ner.py\n",
        "\n",
        "import spacy\n",
        "\n",
        "nlp = spacy.load(\"custom_ner_model\")\n",
        "\n",
        "test_text = \"Bill Gates works at Microsoft and lives in Seattle.\"\n",
        "doc = nlp(test_text)\n",
        "\n",
        "for ent in doc.ents:\n",
        "    print(ent.text, ent.label_)\n"
      ],
      "metadata": {
        "id": "Uo61BypKQ9LK"
      },
      "execution_count": null,
      "outputs": []
    },
    {
      "cell_type": "markdown",
      "source": [
        "# FineTune"
      ],
      "metadata": {
        "id": "uJOxUAxgRVGb"
      }
    },
    {
      "cell_type": "code",
      "source": [
        "# fine_tune_ner.py\n",
        "\n",
        "import spacy\n",
        "from spacy.training.example import Example\n",
        "from spacy.util import minibatch, compounding\n",
        "import random\n",
        "\n",
        "# Load a pre-trained English model\n",
        "nlp = spacy.load(\"en_core_web_sm\")\n",
        "\n",
        "# Get the NER pipe\n",
        "ner = nlp.get_pipe(\"ner\")\n",
        "\n",
        "# Add new labels (if any)\n",
        "for _, annotations in TRAIN_DATA:\n",
        "    for ent in annotations.get(\"entities\"):\n",
        "        ner.add_label(ent[2])\n",
        "\n",
        "# Disable other pipes for training\n",
        "other_pipes = [pipe for pipe in nlp.pipe_names if pipe != \"ner\"]\n",
        "with nlp.disable_pipes(*other_pipes):\n",
        "    optimizer = nlp.resume_training()\n",
        "    for itn in range(30):\n",
        "        print(f\"Iteration {itn}\")\n",
        "        random.shuffle(TRAIN_DATA)\n",
        "        losses = {}\n",
        "        batches = minibatch(TRAIN_DATA, size=compounding(2.0, 8.0, 1.5))\n",
        "        for batch in batches:\n",
        "            for text, annotations in batch:\n",
        "                doc = nlp.make_doc(text)\n",
        "                example = Example.from_dict(doc, annotations)\n",
        "                nlp.update([example], drop=0.3, losses=losses)\n",
        "        print(\"Losses\", losses)\n",
        "\n",
        "# Save the fine-tuned model\n",
        "nlp.to_disk(\"fine_tuned_ner\")\n",
        "print(\"Fine-tuned model saved to 'fine_tuned_ner'\")\n"
      ],
      "metadata": {
        "colab": {
          "base_uri": "https://localhost:8080/"
        },
        "id": "qF7AjFyJRDJe",
        "outputId": "e5f509a6-051a-4729-c897-1e1489bc2428"
      },
      "execution_count": null,
      "outputs": [
        {
          "output_type": "stream",
          "name": "stdout",
          "text": [
            "Iteration 0\n",
            "Losses {'ner': np.float32(5.966311)}\n",
            "Iteration 1\n",
            "Losses {'ner': np.float32(6.5691113)}\n",
            "Iteration 2\n",
            "Losses {'ner': np.float32(6.0968003)}\n",
            "Iteration 3\n",
            "Losses {'ner': np.float32(6.871419)}\n",
            "Iteration 4\n",
            "Losses {'ner': np.float32(4.463703)}\n",
            "Iteration 5\n",
            "Losses {'ner': np.float32(6.2995243)}\n",
            "Iteration 6\n",
            "Losses {'ner': np.float32(3.2210028)}\n",
            "Iteration 7\n",
            "Losses {'ner': np.float32(2.3194242)}\n",
            "Iteration 8\n",
            "Losses {'ner': np.float32(2.5746086)}\n",
            "Iteration 9\n",
            "Losses {'ner': np.float32(2.6893277)}\n",
            "Iteration 10\n",
            "Losses {'ner': np.float32(2.0484698)}\n",
            "Iteration 11\n",
            "Losses {'ner': np.float32(12.110895)}\n",
            "Iteration 12\n",
            "Losses {'ner': np.float32(9.228569)}\n",
            "Iteration 13\n",
            "Losses {'ner': np.float32(5.0935326)}\n",
            "Iteration 14\n",
            "Losses {'ner': np.float32(2.5405564)}\n",
            "Iteration 15\n",
            "Losses {'ner': np.float32(1.7189946)}\n",
            "Iteration 16\n",
            "Losses {'ner': np.float32(2.6228707)}\n",
            "Iteration 17\n",
            "Losses {'ner': np.float32(3.15553)}\n",
            "Iteration 18\n",
            "Losses {'ner': np.float32(2.7659142)}\n",
            "Iteration 19\n",
            "Losses {'ner': np.float32(1.7337857)}\n",
            "Iteration 20\n",
            "Losses {'ner': np.float32(0.88787943)}\n",
            "Iteration 21\n",
            "Losses {'ner': np.float32(0.021926105)}\n",
            "Iteration 22\n",
            "Losses {'ner': np.float32(0.1076134)}\n",
            "Iteration 23\n",
            "Losses {'ner': np.float32(0.00013924444)}\n",
            "Iteration 24\n",
            "Losses {'ner': np.float32(0.00014900173)}\n",
            "Iteration 25\n",
            "Losses {'ner': np.float32(0.055712227)}\n",
            "Iteration 26\n",
            "Losses {'ner': np.float32(0.0017167542)}\n",
            "Iteration 27\n",
            "Losses {'ner': np.float32(0.0001544988)}\n",
            "Iteration 28\n",
            "Losses {'ner': np.float32(0.0007248232)}\n",
            "Iteration 29\n",
            "Losses {'ner': np.float32(2.648977e-06)}\n",
            "Fine-tuned model saved to 'fine_tuned_ner'\n"
          ]
        }
      ]
    },
    {
      "cell_type": "code",
      "source": [
        "# test_fine_tuned.py\n",
        "\n",
        "import spacy\n",
        "\n",
        "nlp = spacy.load(\"fine_tuned_ner\")\n",
        "\n",
        "text = \"Shouvik Sengupta founded Microsoft in Redmond.\"\n",
        "doc = nlp(text)\n",
        "\n",
        "for ent in doc.ents:\n",
        "    print(ent.text, ent.label_)\n"
      ],
      "metadata": {
        "colab": {
          "base_uri": "https://localhost:8080/"
        },
        "id": "iG2XdxSORWU6",
        "outputId": "ed74d989-1f88-4b01-c781-f5df27b995a9"
      },
      "execution_count": null,
      "outputs": [
        {
          "output_type": "stream",
          "name": "stdout",
          "text": [
            "Shouvik Sengupta PER\n",
            "Microsoft ORG\n",
            "Redmond GPE\n"
          ]
        }
      ]
    },
    {
      "cell_type": "code",
      "source": [
        "doc = nlp(\"Shouvik Sengupta founded Microsoft in Redmond.\")\n",
        "\n",
        "# colors = {\"PATHOGEN\": \"#F67DE3\", \"MEDICINE\": \"#7DF6D9\", \"MEDICALCONDITION\":\"#a6e22d\"}\n",
        "# options = {\"colors\": colors}\n",
        "\n",
        "#spacy.displacy.render(doc, style=\"ent\", options= options, jupyter=True)\n",
        "spacy.displacy.render(doc, style=\"ent\", jupyter=True)"
      ],
      "metadata": {
        "colab": {
          "base_uri": "https://localhost:8080/",
          "height": 52
        },
        "id": "nqMzKbf7RbAx",
        "outputId": "ab8909db-5b4a-4ba4-ae78-739ea2fbc9a7"
      },
      "execution_count": null,
      "outputs": [
        {
          "output_type": "display_data",
          "data": {
            "text/plain": [
              "<IPython.core.display.HTML object>"
            ],
            "text/html": [
              "<span class=\"tex2jax_ignore\"><div class=\"entities\" style=\"line-height: 2.5; direction: ltr\">\n",
              "<mark class=\"entity\" style=\"background: #ddd; padding: 0.45em 0.6em; margin: 0 0.25em; line-height: 1; border-radius: 0.35em;\">\n",
              "    Shouvik Sengupta\n",
              "    <span style=\"font-size: 0.8em; font-weight: bold; line-height: 1; border-radius: 0.35em; vertical-align: middle; margin-left: 0.5rem\">PER</span>\n",
              "</mark>\n",
              " founded \n",
              "<mark class=\"entity\" style=\"background: #7aecec; padding: 0.45em 0.6em; margin: 0 0.25em; line-height: 1; border-radius: 0.35em;\">\n",
              "    Microsoft\n",
              "    <span style=\"font-size: 0.8em; font-weight: bold; line-height: 1; border-radius: 0.35em; vertical-align: middle; margin-left: 0.5rem\">ORG</span>\n",
              "</mark>\n",
              " in \n",
              "<mark class=\"entity\" style=\"background: #feca74; padding: 0.45em 0.6em; margin: 0 0.25em; line-height: 1; border-radius: 0.35em;\">\n",
              "    Redmond\n",
              "    <span style=\"font-size: 0.8em; font-weight: bold; line-height: 1; border-radius: 0.35em; vertical-align: middle; margin-left: 0.5rem\">GPE</span>\n",
              "</mark>\n",
              ".</div></span>"
            ]
          },
          "metadata": {}
        }
      ]
    },
    {
      "cell_type": "code",
      "source": [],
      "metadata": {
        "id": "UcrKeYn1R3iQ"
      },
      "execution_count": null,
      "outputs": []
    }
  ]
}