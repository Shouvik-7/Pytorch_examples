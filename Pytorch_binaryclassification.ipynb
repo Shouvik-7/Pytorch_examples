{
  "nbformat": 4,
  "nbformat_minor": 0,
  "metadata": {
    "colab": {
      "provenance": [],
      "authorship_tag": "ABX9TyM80ceQp10ovVOmzU72y2OX",
      "include_colab_link": true
    },
    "kernelspec": {
      "name": "python3",
      "display_name": "Python 3"
    },
    "language_info": {
      "name": "python"
    }
  },
  "cells": [
    {
      "cell_type": "markdown",
      "metadata": {
        "id": "view-in-github",
        "colab_type": "text"
      },
      "source": [
        "<a href=\"https://colab.research.google.com/github/Shouvik-7/Pytorch_examples/blob/main/Pytorch_binaryclassification.ipynb\" target=\"_parent\"><img src=\"https://colab.research.google.com/assets/colab-badge.svg\" alt=\"Open In Colab\"/></a>"
      ]
    },
    {
      "cell_type": "code",
      "execution_count": null,
      "metadata": {
        "colab": {
          "base_uri": "https://localhost:8080/"
        },
        "id": "7Y7A7ACZ28QO",
        "outputId": "7c762a15-23ef-4f9c-b5e0-7746be5f1423"
      },
      "outputs": [
        {
          "output_type": "stream",
          "name": "stdout",
          "text": [
            "Please provide your Kaggle credentials to download this dataset. Learn more: http://bit.ly/kaggle-creds\n",
            "Your Kaggle username: shouvik07\n",
            "Your Kaggle Key: ··········\n",
            "Dataset URL: https://www.kaggle.com/datasets/mssmartypants/rice-type-classification\n",
            "Downloading rice-type-classification.zip to ./rice-type-classification\n"
          ]
        },
        {
          "output_type": "stream",
          "name": "stderr",
          "text": [
            "100%|██████████| 888k/888k [00:00<00:00, 1.33MB/s]"
          ]
        },
        {
          "output_type": "stream",
          "name": "stdout",
          "text": [
            "\n"
          ]
        },
        {
          "output_type": "stream",
          "name": "stderr",
          "text": [
            "\n"
          ]
        }
      ],
      "source": [
        "!pip install opendatasets --quiet\n",
        "import opendatasets as od\n",
        "\n",
        "od.download(\"https://www.kaggle.com/datasets/mssmartypants/rice-type-classification\")"
      ]
    },
    {
      "cell_type": "code",
      "source": [
        "import torch\n",
        "import torch.nn as nn\n",
        "from torch.optim import Adam\n",
        "from torch.utils.data import Dataset, DataLoader\n",
        "from torchsummary import summary\n",
        "from sklearn.model_selection import train_test_split\n",
        "from sklearn.metrics import accuracy_score\n",
        "import matplotlib.pyplot as plt\n",
        "import pandas as pd\n",
        "import numpy as np\n",
        "\n",
        "device = 'cuda' if torch.cuda.is_available() else 'cpu'\n",
        "print(device)"
      ],
      "metadata": {
        "colab": {
          "base_uri": "https://localhost:8080/"
        },
        "id": "o0JoPuMXf7zR",
        "outputId": "7260b3ff-5998-4ae0-e2eb-21ac45b4279d"
      },
      "execution_count": null,
      "outputs": [
        {
          "output_type": "stream",
          "name": "stdout",
          "text": [
            "cpu\n"
          ]
        }
      ]
    },
    {
      "cell_type": "code",
      "source": [
        "data_df = pd.read_csv('/content/rice-type-classification/riceClassification.csv')\n",
        "data_df.head()"
      ],
      "metadata": {
        "colab": {
          "base_uri": "https://localhost:8080/",
          "height": 226
        },
        "id": "xSj-0L5HgrnG",
        "outputId": "9b30d99a-1ec9-49e1-c32c-f3d3a7dbf5ff"
      },
      "execution_count": null,
      "outputs": [
        {
          "output_type": "execute_result",
          "data": {
            "text/plain": [
              "   id  Area  MajorAxisLength  MinorAxisLength  ...  Perimeter  Roundness  AspectRation  Class\n",
              "0   1  4537        92.229316        64.012769  ...    273.085   0.764510      1.440796      1\n",
              "1   2  2872        74.691881        51.400454  ...    208.317   0.831658      1.453137      1\n",
              "2   3  3048        76.293164        52.043491  ...    210.012   0.868434      1.465950      1\n",
              "3   4  3073        77.033628        51.928487  ...    210.657   0.870203      1.483456      1\n",
              "4   5  3693        85.124785        56.374021  ...    230.332   0.874743      1.510000      1\n",
              "\n",
              "[5 rows x 12 columns]"
            ],
            "text/html": [
              "\n",
              "  <div id=\"df-6c60f773-4c3a-4515-ac8a-e58c9534ea12\" class=\"colab-df-container\">\n",
              "    <div>\n",
              "<style scoped>\n",
              "    .dataframe tbody tr th:only-of-type {\n",
              "        vertical-align: middle;\n",
              "    }\n",
              "\n",
              "    .dataframe tbody tr th {\n",
              "        vertical-align: top;\n",
              "    }\n",
              "\n",
              "    .dataframe thead th {\n",
              "        text-align: right;\n",
              "    }\n",
              "</style>\n",
              "<table border=\"1\" class=\"dataframe\">\n",
              "  <thead>\n",
              "    <tr style=\"text-align: right;\">\n",
              "      <th></th>\n",
              "      <th>id</th>\n",
              "      <th>Area</th>\n",
              "      <th>MajorAxisLength</th>\n",
              "      <th>MinorAxisLength</th>\n",
              "      <th>Eccentricity</th>\n",
              "      <th>ConvexArea</th>\n",
              "      <th>EquivDiameter</th>\n",
              "      <th>Extent</th>\n",
              "      <th>Perimeter</th>\n",
              "      <th>Roundness</th>\n",
              "      <th>AspectRation</th>\n",
              "      <th>Class</th>\n",
              "    </tr>\n",
              "  </thead>\n",
              "  <tbody>\n",
              "    <tr>\n",
              "      <th>0</th>\n",
              "      <td>1</td>\n",
              "      <td>4537</td>\n",
              "      <td>92.229316</td>\n",
              "      <td>64.012769</td>\n",
              "      <td>0.719916</td>\n",
              "      <td>4677</td>\n",
              "      <td>76.004525</td>\n",
              "      <td>0.657536</td>\n",
              "      <td>273.085</td>\n",
              "      <td>0.764510</td>\n",
              "      <td>1.440796</td>\n",
              "      <td>1</td>\n",
              "    </tr>\n",
              "    <tr>\n",
              "      <th>1</th>\n",
              "      <td>2</td>\n",
              "      <td>2872</td>\n",
              "      <td>74.691881</td>\n",
              "      <td>51.400454</td>\n",
              "      <td>0.725553</td>\n",
              "      <td>3015</td>\n",
              "      <td>60.471018</td>\n",
              "      <td>0.713009</td>\n",
              "      <td>208.317</td>\n",
              "      <td>0.831658</td>\n",
              "      <td>1.453137</td>\n",
              "      <td>1</td>\n",
              "    </tr>\n",
              "    <tr>\n",
              "      <th>2</th>\n",
              "      <td>3</td>\n",
              "      <td>3048</td>\n",
              "      <td>76.293164</td>\n",
              "      <td>52.043491</td>\n",
              "      <td>0.731211</td>\n",
              "      <td>3132</td>\n",
              "      <td>62.296341</td>\n",
              "      <td>0.759153</td>\n",
              "      <td>210.012</td>\n",
              "      <td>0.868434</td>\n",
              "      <td>1.465950</td>\n",
              "      <td>1</td>\n",
              "    </tr>\n",
              "    <tr>\n",
              "      <th>3</th>\n",
              "      <td>4</td>\n",
              "      <td>3073</td>\n",
              "      <td>77.033628</td>\n",
              "      <td>51.928487</td>\n",
              "      <td>0.738639</td>\n",
              "      <td>3157</td>\n",
              "      <td>62.551300</td>\n",
              "      <td>0.783529</td>\n",
              "      <td>210.657</td>\n",
              "      <td>0.870203</td>\n",
              "      <td>1.483456</td>\n",
              "      <td>1</td>\n",
              "    </tr>\n",
              "    <tr>\n",
              "      <th>4</th>\n",
              "      <td>5</td>\n",
              "      <td>3693</td>\n",
              "      <td>85.124785</td>\n",
              "      <td>56.374021</td>\n",
              "      <td>0.749282</td>\n",
              "      <td>3802</td>\n",
              "      <td>68.571668</td>\n",
              "      <td>0.769375</td>\n",
              "      <td>230.332</td>\n",
              "      <td>0.874743</td>\n",
              "      <td>1.510000</td>\n",
              "      <td>1</td>\n",
              "    </tr>\n",
              "  </tbody>\n",
              "</table>\n",
              "</div>\n",
              "    <div class=\"colab-df-buttons\">\n",
              "\n",
              "  <div class=\"colab-df-container\">\n",
              "    <button class=\"colab-df-convert\" onclick=\"convertToInteractive('df-6c60f773-4c3a-4515-ac8a-e58c9534ea12')\"\n",
              "            title=\"Convert this dataframe to an interactive table.\"\n",
              "            style=\"display:none;\">\n",
              "\n",
              "  <svg xmlns=\"http://www.w3.org/2000/svg\" height=\"24px\" viewBox=\"0 -960 960 960\">\n",
              "    <path d=\"M120-120v-720h720v720H120Zm60-500h600v-160H180v160Zm220 220h160v-160H400v160Zm0 220h160v-160H400v160ZM180-400h160v-160H180v160Zm440 0h160v-160H620v160ZM180-180h160v-160H180v160Zm440 0h160v-160H620v160Z\"/>\n",
              "  </svg>\n",
              "    </button>\n",
              "\n",
              "  <style>\n",
              "    .colab-df-container {\n",
              "      display:flex;\n",
              "      gap: 12px;\n",
              "    }\n",
              "\n",
              "    .colab-df-convert {\n",
              "      background-color: #E8F0FE;\n",
              "      border: none;\n",
              "      border-radius: 50%;\n",
              "      cursor: pointer;\n",
              "      display: none;\n",
              "      fill: #1967D2;\n",
              "      height: 32px;\n",
              "      padding: 0 0 0 0;\n",
              "      width: 32px;\n",
              "    }\n",
              "\n",
              "    .colab-df-convert:hover {\n",
              "      background-color: #E2EBFA;\n",
              "      box-shadow: 0px 1px 2px rgba(60, 64, 67, 0.3), 0px 1px 3px 1px rgba(60, 64, 67, 0.15);\n",
              "      fill: #174EA6;\n",
              "    }\n",
              "\n",
              "    .colab-df-buttons div {\n",
              "      margin-bottom: 4px;\n",
              "    }\n",
              "\n",
              "    [theme=dark] .colab-df-convert {\n",
              "      background-color: #3B4455;\n",
              "      fill: #D2E3FC;\n",
              "    }\n",
              "\n",
              "    [theme=dark] .colab-df-convert:hover {\n",
              "      background-color: #434B5C;\n",
              "      box-shadow: 0px 1px 3px 1px rgba(0, 0, 0, 0.15);\n",
              "      filter: drop-shadow(0px 1px 2px rgba(0, 0, 0, 0.3));\n",
              "      fill: #FFFFFF;\n",
              "    }\n",
              "  </style>\n",
              "\n",
              "    <script>\n",
              "      const buttonEl =\n",
              "        document.querySelector('#df-6c60f773-4c3a-4515-ac8a-e58c9534ea12 button.colab-df-convert');\n",
              "      buttonEl.style.display =\n",
              "        google.colab.kernel.accessAllowed ? 'block' : 'none';\n",
              "\n",
              "      async function convertToInteractive(key) {\n",
              "        const element = document.querySelector('#df-6c60f773-4c3a-4515-ac8a-e58c9534ea12');\n",
              "        const dataTable =\n",
              "          await google.colab.kernel.invokeFunction('convertToInteractive',\n",
              "                                                    [key], {});\n",
              "        if (!dataTable) return;\n",
              "\n",
              "        const docLinkHtml = 'Like what you see? Visit the ' +\n",
              "          '<a target=\"_blank\" href=https://colab.research.google.com/notebooks/data_table.ipynb>data table notebook</a>'\n",
              "          + ' to learn more about interactive tables.';\n",
              "        element.innerHTML = '';\n",
              "        dataTable['output_type'] = 'display_data';\n",
              "        await google.colab.output.renderOutput(dataTable, element);\n",
              "        const docLink = document.createElement('div');\n",
              "        docLink.innerHTML = docLinkHtml;\n",
              "        element.appendChild(docLink);\n",
              "      }\n",
              "    </script>\n",
              "  </div>\n",
              "\n",
              "\n",
              "<div id=\"df-a0003b92-ea55-473c-acb3-ea898b391228\">\n",
              "  <button class=\"colab-df-quickchart\" onclick=\"quickchart('df-a0003b92-ea55-473c-acb3-ea898b391228')\"\n",
              "            title=\"Suggest charts\"\n",
              "            style=\"display:none;\">\n",
              "\n",
              "<svg xmlns=\"http://www.w3.org/2000/svg\" height=\"24px\"viewBox=\"0 0 24 24\"\n",
              "     width=\"24px\">\n",
              "    <g>\n",
              "        <path d=\"M19 3H5c-1.1 0-2 .9-2 2v14c0 1.1.9 2 2 2h14c1.1 0 2-.9 2-2V5c0-1.1-.9-2-2-2zM9 17H7v-7h2v7zm4 0h-2V7h2v10zm4 0h-2v-4h2v4z\"/>\n",
              "    </g>\n",
              "</svg>\n",
              "  </button>\n",
              "\n",
              "<style>\n",
              "  .colab-df-quickchart {\n",
              "      --bg-color: #E8F0FE;\n",
              "      --fill-color: #1967D2;\n",
              "      --hover-bg-color: #E2EBFA;\n",
              "      --hover-fill-color: #174EA6;\n",
              "      --disabled-fill-color: #AAA;\n",
              "      --disabled-bg-color: #DDD;\n",
              "  }\n",
              "\n",
              "  [theme=dark] .colab-df-quickchart {\n",
              "      --bg-color: #3B4455;\n",
              "      --fill-color: #D2E3FC;\n",
              "      --hover-bg-color: #434B5C;\n",
              "      --hover-fill-color: #FFFFFF;\n",
              "      --disabled-bg-color: #3B4455;\n",
              "      --disabled-fill-color: #666;\n",
              "  }\n",
              "\n",
              "  .colab-df-quickchart {\n",
              "    background-color: var(--bg-color);\n",
              "    border: none;\n",
              "    border-radius: 50%;\n",
              "    cursor: pointer;\n",
              "    display: none;\n",
              "    fill: var(--fill-color);\n",
              "    height: 32px;\n",
              "    padding: 0;\n",
              "    width: 32px;\n",
              "  }\n",
              "\n",
              "  .colab-df-quickchart:hover {\n",
              "    background-color: var(--hover-bg-color);\n",
              "    box-shadow: 0 1px 2px rgba(60, 64, 67, 0.3), 0 1px 3px 1px rgba(60, 64, 67, 0.15);\n",
              "    fill: var(--button-hover-fill-color);\n",
              "  }\n",
              "\n",
              "  .colab-df-quickchart-complete:disabled,\n",
              "  .colab-df-quickchart-complete:disabled:hover {\n",
              "    background-color: var(--disabled-bg-color);\n",
              "    fill: var(--disabled-fill-color);\n",
              "    box-shadow: none;\n",
              "  }\n",
              "\n",
              "  .colab-df-spinner {\n",
              "    border: 2px solid var(--fill-color);\n",
              "    border-color: transparent;\n",
              "    border-bottom-color: var(--fill-color);\n",
              "    animation:\n",
              "      spin 1s steps(1) infinite;\n",
              "  }\n",
              "\n",
              "  @keyframes spin {\n",
              "    0% {\n",
              "      border-color: transparent;\n",
              "      border-bottom-color: var(--fill-color);\n",
              "      border-left-color: var(--fill-color);\n",
              "    }\n",
              "    20% {\n",
              "      border-color: transparent;\n",
              "      border-left-color: var(--fill-color);\n",
              "      border-top-color: var(--fill-color);\n",
              "    }\n",
              "    30% {\n",
              "      border-color: transparent;\n",
              "      border-left-color: var(--fill-color);\n",
              "      border-top-color: var(--fill-color);\n",
              "      border-right-color: var(--fill-color);\n",
              "    }\n",
              "    40% {\n",
              "      border-color: transparent;\n",
              "      border-right-color: var(--fill-color);\n",
              "      border-top-color: var(--fill-color);\n",
              "    }\n",
              "    60% {\n",
              "      border-color: transparent;\n",
              "      border-right-color: var(--fill-color);\n",
              "    }\n",
              "    80% {\n",
              "      border-color: transparent;\n",
              "      border-right-color: var(--fill-color);\n",
              "      border-bottom-color: var(--fill-color);\n",
              "    }\n",
              "    90% {\n",
              "      border-color: transparent;\n",
              "      border-bottom-color: var(--fill-color);\n",
              "    }\n",
              "  }\n",
              "</style>\n",
              "\n",
              "  <script>\n",
              "    async function quickchart(key) {\n",
              "      const quickchartButtonEl =\n",
              "        document.querySelector('#' + key + ' button');\n",
              "      quickchartButtonEl.disabled = true;  // To prevent multiple clicks.\n",
              "      quickchartButtonEl.classList.add('colab-df-spinner');\n",
              "      try {\n",
              "        const charts = await google.colab.kernel.invokeFunction(\n",
              "            'suggestCharts', [key], {});\n",
              "      } catch (error) {\n",
              "        console.error('Error during call to suggestCharts:', error);\n",
              "      }\n",
              "      quickchartButtonEl.classList.remove('colab-df-spinner');\n",
              "      quickchartButtonEl.classList.add('colab-df-quickchart-complete');\n",
              "    }\n",
              "    (() => {\n",
              "      let quickchartButtonEl =\n",
              "        document.querySelector('#df-a0003b92-ea55-473c-acb3-ea898b391228 button');\n",
              "      quickchartButtonEl.style.display =\n",
              "        google.colab.kernel.accessAllowed ? 'block' : 'none';\n",
              "    })();\n",
              "  </script>\n",
              "</div>\n",
              "\n",
              "    </div>\n",
              "  </div>\n"
            ],
            "application/vnd.google.colaboratory.intrinsic+json": {
              "type": "dataframe",
              "variable_name": "data_df",
              "summary": "{\n  \"name\": \"data_df\",\n  \"rows\": 18185,\n  \"fields\": [\n    {\n      \"column\": \"id\",\n      \"properties\": {\n        \"dtype\": \"number\",\n        \"std\": 5249,\n        \"min\": 1,\n        \"max\": 18185,\n        \"num_unique_values\": 18185,\n        \"samples\": [\n          18057,\n          3257,\n          17107\n        ],\n        \"semantic_type\": \"\",\n        \"description\": \"\"\n      }\n    },\n    {\n      \"column\": \"Area\",\n      \"properties\": {\n        \"dtype\": \"number\",\n        \"std\": 1467,\n        \"min\": 2522,\n        \"max\": 10210,\n        \"num_unique_values\": 5343,\n        \"samples\": [\n          6932,\n          7847,\n          7428\n        ],\n        \"semantic_type\": \"\",\n        \"description\": \"\"\n      }\n    },\n    {\n      \"column\": \"MajorAxisLength\",\n      \"properties\": {\n        \"dtype\": \"number\",\n        \"std\": 12.376402475210195,\n        \"min\": 74.13311404,\n        \"max\": 183.2114344,\n        \"num_unique_values\": 18185,\n        \"samples\": [\n          174.6713776,\n          145.8075716,\n          158.0124457\n        ],\n        \"semantic_type\": \"\",\n        \"description\": \"\"\n      }\n    },\n    {\n      \"column\": \"MinorAxisLength\",\n      \"properties\": {\n        \"dtype\": \"number\",\n        \"std\": 10.061652559362898,\n        \"min\": 34.40989421,\n        \"max\": 82.55076212,\n        \"num_unique_values\": 18185,\n        \"samples\": [\n          69.66136016,\n          51.67327984,\n          67.8482643\n        ],\n        \"semantic_type\": \"\",\n        \"description\": \"\"\n      }\n    },\n    {\n      \"column\": \"Eccentricity\",\n      \"properties\": {\n        \"dtype\": \"number\",\n        \"std\": 0.030575132488673995,\n        \"min\": 0.6766470565,\n        \"max\": 0.9667736672,\n        \"num_unique_values\": 18185,\n        \"samples\": [\n          0.9170319151,\n          0.935096321,\n          0.9031212715\n        ],\n        \"semantic_type\": \"\",\n        \"description\": \"\"\n      }\n    },\n    {\n      \"column\": \"ConvexArea\",\n      \"properties\": {\n        \"dtype\": \"number\",\n        \"std\": 1502,\n        \"min\": 2579,\n        \"max\": 11008,\n        \"num_unique_values\": 5450,\n        \"samples\": [\n          9985,\n          4647,\n          7443\n        ],\n        \"semantic_type\": \"\",\n        \"description\": \"\"\n      }\n    },\n    {\n      \"column\": \"EquivDiameter\",\n      \"properties\": {\n        \"dtype\": \"number\",\n        \"std\": 9.90625046973775,\n        \"min\": 56.66665803,\n        \"max\": 114.0165591,\n        \"num_unique_values\": 5343,\n        \"samples\": [\n          93.94730717,\n          99.95554366,\n          97.25031279\n        ],\n        \"semantic_type\": \"\",\n        \"description\": \"\"\n      }\n    },\n    {\n      \"column\": \"Extent\",\n      \"properties\": {\n        \"dtype\": \"number\",\n        \"std\": 0.10438942430267766,\n        \"min\": 0.3832391714,\n        \"max\": 0.8865730584,\n        \"num_unique_values\": 18007,\n        \"samples\": [\n          0.4601652893,\n          0.5858939017,\n          0.5505580357\n        ],\n        \"semantic_type\": \"\",\n        \"description\": \"\"\n      }\n    },\n    {\n      \"column\": \"Perimeter\",\n      \"properties\": {\n        \"dtype\": \"number\",\n        \"std\": 29.5006198759396,\n        \"min\": 197.015,\n        \"max\": 508.511,\n        \"num_unique_values\": 16246,\n        \"samples\": [\n          356.973,\n          374.084,\n          388.049\n        ],\n        \"semantic_type\": \"\",\n        \"description\": \"\"\n      }\n    },\n    {\n      \"column\": \"Roundness\",\n      \"properties\": {\n        \"dtype\": \"number\",\n        \"std\": 0.06731016002659161,\n        \"min\": 0.1745901779,\n        \"max\": 0.9047483132,\n        \"num_unique_values\": 18184,\n        \"samples\": [\n          0.6384175711,\n          0.6501997504,\n          0.6459622092\n        ],\n        \"semantic_type\": \"\",\n        \"description\": \"\"\n      }\n    },\n    {\n      \"column\": \"AspectRation\",\n      \"properties\": {\n        \"dtype\": \"number\",\n        \"std\": 0.4348364637403803,\n        \"min\": 1.358128195,\n        \"max\": 3.911844673,\n        \"num_unique_values\": 18185,\n        \"samples\": [\n          2.507435646,\n          2.82172086,\n          2.328909182\n        ],\n        \"semantic_type\": \"\",\n        \"description\": \"\"\n      }\n    },\n    {\n      \"column\": \"Class\",\n      \"properties\": {\n        \"dtype\": \"number\",\n        \"std\": 0,\n        \"min\": 0,\n        \"max\": 1,\n        \"num_unique_values\": 2,\n        \"samples\": [\n          0,\n          1\n        ],\n        \"semantic_type\": \"\",\n        \"description\": \"\"\n      }\n    }\n  ]\n}"
            }
          },
          "metadata": {},
          "execution_count": 3
        }
      ]
    },
    {
      "cell_type": "code",
      "source": [
        "data_df.dropna(inplace=True)\n",
        "data_df.drop(['id'], axis = 1, inplace = True)\n",
        "print(data_df.shape)"
      ],
      "metadata": {
        "colab": {
          "base_uri": "https://localhost:8080/"
        },
        "id": "hZz9SIorgzjq",
        "outputId": "74663b21-e2b6-4c2c-bc0f-d5453faa60b1"
      },
      "execution_count": null,
      "outputs": [
        {
          "output_type": "stream",
          "name": "stdout",
          "text": [
            "(18185, 11)\n"
          ]
        }
      ]
    },
    {
      "cell_type": "code",
      "source": [
        "print(data_df['Class'].value_counts())"
      ],
      "metadata": {
        "colab": {
          "base_uri": "https://localhost:8080/"
        },
        "id": "7yxcgHiLg3ds",
        "outputId": "297cfbc4-f6f3-4ca7-db33-db716677c7ab"
      },
      "execution_count": null,
      "outputs": [
        {
          "output_type": "stream",
          "name": "stdout",
          "text": [
            "Class\n",
            "1    9985\n",
            "0    8200\n",
            "Name: count, dtype: int64\n"
          ]
        }
      ]
    },
    {
      "cell_type": "code",
      "source": [
        "original_df = data_df.copy()\n",
        "\n",
        "\n",
        "for column in data_df.columns:\n",
        "  data_df[column] = data_df[column]/data_df[column].abs().max()\n",
        "\n",
        "data_df.head()"
      ],
      "metadata": {
        "colab": {
          "base_uri": "https://localhost:8080/",
          "height": 226
        },
        "id": "ru5OPnSTltvJ",
        "outputId": "68a08d3d-3b75-409c-d4de-7a2d8c7381be"
      },
      "execution_count": null,
      "outputs": [
        {
          "output_type": "execute_result",
          "data": {
            "text/plain": [
              "       Area  MajorAxisLength  MinorAxisLength  ...  Roundness  AspectRation  Class\n",
              "0  0.444368         0.503404         0.775435  ...   0.844997      0.368316    1.0\n",
              "1  0.281293         0.407681         0.622653  ...   0.919215      0.371471    1.0\n",
              "2  0.298531         0.416421         0.630442  ...   0.959862      0.374747    1.0\n",
              "3  0.300979         0.420463         0.629049  ...   0.961818      0.379222    1.0\n",
              "4  0.361704         0.464626         0.682901  ...   0.966836      0.386007    1.0\n",
              "\n",
              "[5 rows x 11 columns]"
            ],
            "text/html": [
              "\n",
              "  <div id=\"df-26afaf72-e40f-4470-8e80-180c1e2d35a5\" class=\"colab-df-container\">\n",
              "    <div>\n",
              "<style scoped>\n",
              "    .dataframe tbody tr th:only-of-type {\n",
              "        vertical-align: middle;\n",
              "    }\n",
              "\n",
              "    .dataframe tbody tr th {\n",
              "        vertical-align: top;\n",
              "    }\n",
              "\n",
              "    .dataframe thead th {\n",
              "        text-align: right;\n",
              "    }\n",
              "</style>\n",
              "<table border=\"1\" class=\"dataframe\">\n",
              "  <thead>\n",
              "    <tr style=\"text-align: right;\">\n",
              "      <th></th>\n",
              "      <th>Area</th>\n",
              "      <th>MajorAxisLength</th>\n",
              "      <th>MinorAxisLength</th>\n",
              "      <th>Eccentricity</th>\n",
              "      <th>ConvexArea</th>\n",
              "      <th>EquivDiameter</th>\n",
              "      <th>Extent</th>\n",
              "      <th>Perimeter</th>\n",
              "      <th>Roundness</th>\n",
              "      <th>AspectRation</th>\n",
              "      <th>Class</th>\n",
              "    </tr>\n",
              "  </thead>\n",
              "  <tbody>\n",
              "    <tr>\n",
              "      <th>0</th>\n",
              "      <td>0.444368</td>\n",
              "      <td>0.503404</td>\n",
              "      <td>0.775435</td>\n",
              "      <td>0.744658</td>\n",
              "      <td>0.424873</td>\n",
              "      <td>0.666610</td>\n",
              "      <td>0.741661</td>\n",
              "      <td>0.537029</td>\n",
              "      <td>0.844997</td>\n",
              "      <td>0.368316</td>\n",
              "      <td>1.0</td>\n",
              "    </tr>\n",
              "    <tr>\n",
              "      <th>1</th>\n",
              "      <td>0.281293</td>\n",
              "      <td>0.407681</td>\n",
              "      <td>0.622653</td>\n",
              "      <td>0.750489</td>\n",
              "      <td>0.273892</td>\n",
              "      <td>0.530370</td>\n",
              "      <td>0.804230</td>\n",
              "      <td>0.409661</td>\n",
              "      <td>0.919215</td>\n",
              "      <td>0.371471</td>\n",
              "      <td>1.0</td>\n",
              "    </tr>\n",
              "    <tr>\n",
              "      <th>2</th>\n",
              "      <td>0.298531</td>\n",
              "      <td>0.416421</td>\n",
              "      <td>0.630442</td>\n",
              "      <td>0.756341</td>\n",
              "      <td>0.284520</td>\n",
              "      <td>0.546380</td>\n",
              "      <td>0.856278</td>\n",
              "      <td>0.412994</td>\n",
              "      <td>0.959862</td>\n",
              "      <td>0.374747</td>\n",
              "      <td>1.0</td>\n",
              "    </tr>\n",
              "    <tr>\n",
              "      <th>3</th>\n",
              "      <td>0.300979</td>\n",
              "      <td>0.420463</td>\n",
              "      <td>0.629049</td>\n",
              "      <td>0.764024</td>\n",
              "      <td>0.286791</td>\n",
              "      <td>0.548616</td>\n",
              "      <td>0.883772</td>\n",
              "      <td>0.414262</td>\n",
              "      <td>0.961818</td>\n",
              "      <td>0.379222</td>\n",
              "      <td>1.0</td>\n",
              "    </tr>\n",
              "    <tr>\n",
              "      <th>4</th>\n",
              "      <td>0.361704</td>\n",
              "      <td>0.464626</td>\n",
              "      <td>0.682901</td>\n",
              "      <td>0.775033</td>\n",
              "      <td>0.345385</td>\n",
              "      <td>0.601418</td>\n",
              "      <td>0.867808</td>\n",
              "      <td>0.452954</td>\n",
              "      <td>0.966836</td>\n",
              "      <td>0.386007</td>\n",
              "      <td>1.0</td>\n",
              "    </tr>\n",
              "  </tbody>\n",
              "</table>\n",
              "</div>\n",
              "    <div class=\"colab-df-buttons\">\n",
              "\n",
              "  <div class=\"colab-df-container\">\n",
              "    <button class=\"colab-df-convert\" onclick=\"convertToInteractive('df-26afaf72-e40f-4470-8e80-180c1e2d35a5')\"\n",
              "            title=\"Convert this dataframe to an interactive table.\"\n",
              "            style=\"display:none;\">\n",
              "\n",
              "  <svg xmlns=\"http://www.w3.org/2000/svg\" height=\"24px\" viewBox=\"0 -960 960 960\">\n",
              "    <path d=\"M120-120v-720h720v720H120Zm60-500h600v-160H180v160Zm220 220h160v-160H400v160Zm0 220h160v-160H400v160ZM180-400h160v-160H180v160Zm440 0h160v-160H620v160ZM180-180h160v-160H180v160Zm440 0h160v-160H620v160Z\"/>\n",
              "  </svg>\n",
              "    </button>\n",
              "\n",
              "  <style>\n",
              "    .colab-df-container {\n",
              "      display:flex;\n",
              "      gap: 12px;\n",
              "    }\n",
              "\n",
              "    .colab-df-convert {\n",
              "      background-color: #E8F0FE;\n",
              "      border: none;\n",
              "      border-radius: 50%;\n",
              "      cursor: pointer;\n",
              "      display: none;\n",
              "      fill: #1967D2;\n",
              "      height: 32px;\n",
              "      padding: 0 0 0 0;\n",
              "      width: 32px;\n",
              "    }\n",
              "\n",
              "    .colab-df-convert:hover {\n",
              "      background-color: #E2EBFA;\n",
              "      box-shadow: 0px 1px 2px rgba(60, 64, 67, 0.3), 0px 1px 3px 1px rgba(60, 64, 67, 0.15);\n",
              "      fill: #174EA6;\n",
              "    }\n",
              "\n",
              "    .colab-df-buttons div {\n",
              "      margin-bottom: 4px;\n",
              "    }\n",
              "\n",
              "    [theme=dark] .colab-df-convert {\n",
              "      background-color: #3B4455;\n",
              "      fill: #D2E3FC;\n",
              "    }\n",
              "\n",
              "    [theme=dark] .colab-df-convert:hover {\n",
              "      background-color: #434B5C;\n",
              "      box-shadow: 0px 1px 3px 1px rgba(0, 0, 0, 0.15);\n",
              "      filter: drop-shadow(0px 1px 2px rgba(0, 0, 0, 0.3));\n",
              "      fill: #FFFFFF;\n",
              "    }\n",
              "  </style>\n",
              "\n",
              "    <script>\n",
              "      const buttonEl =\n",
              "        document.querySelector('#df-26afaf72-e40f-4470-8e80-180c1e2d35a5 button.colab-df-convert');\n",
              "      buttonEl.style.display =\n",
              "        google.colab.kernel.accessAllowed ? 'block' : 'none';\n",
              "\n",
              "      async function convertToInteractive(key) {\n",
              "        const element = document.querySelector('#df-26afaf72-e40f-4470-8e80-180c1e2d35a5');\n",
              "        const dataTable =\n",
              "          await google.colab.kernel.invokeFunction('convertToInteractive',\n",
              "                                                    [key], {});\n",
              "        if (!dataTable) return;\n",
              "\n",
              "        const docLinkHtml = 'Like what you see? Visit the ' +\n",
              "          '<a target=\"_blank\" href=https://colab.research.google.com/notebooks/data_table.ipynb>data table notebook</a>'\n",
              "          + ' to learn more about interactive tables.';\n",
              "        element.innerHTML = '';\n",
              "        dataTable['output_type'] = 'display_data';\n",
              "        await google.colab.output.renderOutput(dataTable, element);\n",
              "        const docLink = document.createElement('div');\n",
              "        docLink.innerHTML = docLinkHtml;\n",
              "        element.appendChild(docLink);\n",
              "      }\n",
              "    </script>\n",
              "  </div>\n",
              "\n",
              "\n",
              "<div id=\"df-ab0f69b0-67e5-4be0-8ca1-5b86cdbb141d\">\n",
              "  <button class=\"colab-df-quickchart\" onclick=\"quickchart('df-ab0f69b0-67e5-4be0-8ca1-5b86cdbb141d')\"\n",
              "            title=\"Suggest charts\"\n",
              "            style=\"display:none;\">\n",
              "\n",
              "<svg xmlns=\"http://www.w3.org/2000/svg\" height=\"24px\"viewBox=\"0 0 24 24\"\n",
              "     width=\"24px\">\n",
              "    <g>\n",
              "        <path d=\"M19 3H5c-1.1 0-2 .9-2 2v14c0 1.1.9 2 2 2h14c1.1 0 2-.9 2-2V5c0-1.1-.9-2-2-2zM9 17H7v-7h2v7zm4 0h-2V7h2v10zm4 0h-2v-4h2v4z\"/>\n",
              "    </g>\n",
              "</svg>\n",
              "  </button>\n",
              "\n",
              "<style>\n",
              "  .colab-df-quickchart {\n",
              "      --bg-color: #E8F0FE;\n",
              "      --fill-color: #1967D2;\n",
              "      --hover-bg-color: #E2EBFA;\n",
              "      --hover-fill-color: #174EA6;\n",
              "      --disabled-fill-color: #AAA;\n",
              "      --disabled-bg-color: #DDD;\n",
              "  }\n",
              "\n",
              "  [theme=dark] .colab-df-quickchart {\n",
              "      --bg-color: #3B4455;\n",
              "      --fill-color: #D2E3FC;\n",
              "      --hover-bg-color: #434B5C;\n",
              "      --hover-fill-color: #FFFFFF;\n",
              "      --disabled-bg-color: #3B4455;\n",
              "      --disabled-fill-color: #666;\n",
              "  }\n",
              "\n",
              "  .colab-df-quickchart {\n",
              "    background-color: var(--bg-color);\n",
              "    border: none;\n",
              "    border-radius: 50%;\n",
              "    cursor: pointer;\n",
              "    display: none;\n",
              "    fill: var(--fill-color);\n",
              "    height: 32px;\n",
              "    padding: 0;\n",
              "    width: 32px;\n",
              "  }\n",
              "\n",
              "  .colab-df-quickchart:hover {\n",
              "    background-color: var(--hover-bg-color);\n",
              "    box-shadow: 0 1px 2px rgba(60, 64, 67, 0.3), 0 1px 3px 1px rgba(60, 64, 67, 0.15);\n",
              "    fill: var(--button-hover-fill-color);\n",
              "  }\n",
              "\n",
              "  .colab-df-quickchart-complete:disabled,\n",
              "  .colab-df-quickchart-complete:disabled:hover {\n",
              "    background-color: var(--disabled-bg-color);\n",
              "    fill: var(--disabled-fill-color);\n",
              "    box-shadow: none;\n",
              "  }\n",
              "\n",
              "  .colab-df-spinner {\n",
              "    border: 2px solid var(--fill-color);\n",
              "    border-color: transparent;\n",
              "    border-bottom-color: var(--fill-color);\n",
              "    animation:\n",
              "      spin 1s steps(1) infinite;\n",
              "  }\n",
              "\n",
              "  @keyframes spin {\n",
              "    0% {\n",
              "      border-color: transparent;\n",
              "      border-bottom-color: var(--fill-color);\n",
              "      border-left-color: var(--fill-color);\n",
              "    }\n",
              "    20% {\n",
              "      border-color: transparent;\n",
              "      border-left-color: var(--fill-color);\n",
              "      border-top-color: var(--fill-color);\n",
              "    }\n",
              "    30% {\n",
              "      border-color: transparent;\n",
              "      border-left-color: var(--fill-color);\n",
              "      border-top-color: var(--fill-color);\n",
              "      border-right-color: var(--fill-color);\n",
              "    }\n",
              "    40% {\n",
              "      border-color: transparent;\n",
              "      border-right-color: var(--fill-color);\n",
              "      border-top-color: var(--fill-color);\n",
              "    }\n",
              "    60% {\n",
              "      border-color: transparent;\n",
              "      border-right-color: var(--fill-color);\n",
              "    }\n",
              "    80% {\n",
              "      border-color: transparent;\n",
              "      border-right-color: var(--fill-color);\n",
              "      border-bottom-color: var(--fill-color);\n",
              "    }\n",
              "    90% {\n",
              "      border-color: transparent;\n",
              "      border-bottom-color: var(--fill-color);\n",
              "    }\n",
              "  }\n",
              "</style>\n",
              "\n",
              "  <script>\n",
              "    async function quickchart(key) {\n",
              "      const quickchartButtonEl =\n",
              "        document.querySelector('#' + key + ' button');\n",
              "      quickchartButtonEl.disabled = true;  // To prevent multiple clicks.\n",
              "      quickchartButtonEl.classList.add('colab-df-spinner');\n",
              "      try {\n",
              "        const charts = await google.colab.kernel.invokeFunction(\n",
              "            'suggestCharts', [key], {});\n",
              "      } catch (error) {\n",
              "        console.error('Error during call to suggestCharts:', error);\n",
              "      }\n",
              "      quickchartButtonEl.classList.remove('colab-df-spinner');\n",
              "      quickchartButtonEl.classList.add('colab-df-quickchart-complete');\n",
              "    }\n",
              "    (() => {\n",
              "      let quickchartButtonEl =\n",
              "        document.querySelector('#df-ab0f69b0-67e5-4be0-8ca1-5b86cdbb141d button');\n",
              "      quickchartButtonEl.style.display =\n",
              "        google.colab.kernel.accessAllowed ? 'block' : 'none';\n",
              "    })();\n",
              "  </script>\n",
              "</div>\n",
              "\n",
              "    </div>\n",
              "  </div>\n"
            ],
            "application/vnd.google.colaboratory.intrinsic+json": {
              "type": "dataframe",
              "variable_name": "data_df",
              "summary": "{\n  \"name\": \"data_df\",\n  \"rows\": 18185,\n  \"fields\": [\n    {\n      \"column\": \"Area\",\n      \"properties\": {\n        \"dtype\": \"number\",\n        \"std\": 0.14370197357033015,\n        \"min\": 0.24701273261508325,\n        \"max\": 1.0,\n        \"num_unique_values\": 5343,\n        \"samples\": [\n          0.6789422135161606,\n          0.7685602350636631,\n          0.7275220372184134\n        ],\n        \"semantic_type\": \"\",\n        \"description\": \"\"\n      }\n    },\n    {\n      \"column\": \"MajorAxisLength\",\n      \"properties\": {\n        \"dtype\": \"number\",\n        \"std\": 0.06755256578685567,\n        \"min\": 0.4046314810141566,\n        \"max\": 1.0,\n        \"num_unique_values\": 18185,\n        \"samples\": [\n          0.9533868787831509,\n          0.7958431856478058,\n          0.8624595196117301\n        ],\n        \"semantic_type\": \"\",\n        \"description\": \"\"\n      }\n    },\n    {\n      \"column\": \"MinorAxisLength\",\n      \"properties\": {\n        \"dtype\": \"number\",\n        \"std\": 0.12188442966446315,\n        \"min\": 0.41683315000750715,\n        \"max\": 1.0,\n        \"num_unique_values\": 18185,\n        \"samples\": [\n          0.8438608968713904,\n          0.6259576351928172,\n          0.8218974914050132\n        ],\n        \"semantic_type\": \"\",\n        \"description\": \"\"\n      }\n    },\n    {\n      \"column\": \"Eccentricity\",\n      \"properties\": {\n        \"dtype\": \"number\",\n        \"std\": 0.03162594671949088,\n        \"min\": 0.6999022412967931,\n        \"max\": 1.0,\n        \"num_unique_values\": 18185,\n        \"samples\": [\n          0.948548710222876,\n          0.9672339583971655,\n          0.9341599819486684\n        ],\n        \"semantic_type\": \"\",\n        \"description\": \"\"\n      }\n    },\n    {\n      \"column\": \"ConvexArea\",\n      \"properties\": {\n        \"dtype\": \"number\",\n        \"std\": 0.13644681787780938,\n        \"min\": 0.23428415697674418,\n        \"max\": 1.0,\n        \"num_unique_values\": 5450,\n        \"samples\": [\n          0.9070675872093024,\n          0.42214752906976744,\n          0.6761446220930233\n        ],\n        \"semantic_type\": \"\",\n        \"description\": \"\"\n      }\n    },\n    {\n      \"column\": \"EquivDiameter\",\n      \"properties\": {\n        \"dtype\": \"number\",\n        \"std\": 0.08688431354124022,\n        \"min\": 0.497003755220324,\n        \"max\": 1.0,\n        \"num_unique_values\": 5343,\n        \"samples\": [\n          0.823979498342886,\n          0.876675672805846,\n          0.852949023875603\n        ],\n        \"semantic_type\": \"\",\n        \"description\": \"\"\n      }\n    },\n    {\n      \"column\": \"Extent\",\n      \"properties\": {\n        \"dtype\": \"number\",\n        \"std\": 0.11774486413005775,\n        \"min\": 0.4322702655679978,\n        \"max\": 1.0,\n        \"num_unique_values\": 18007,\n        \"samples\": [\n          0.5190382055264133,\n          0.660852364222937,\n          0.6209956759723706\n        ],\n        \"semantic_type\": \"\",\n        \"description\": \"\"\n      }\n    },\n    {\n      \"column\": \"Perimeter\",\n      \"properties\": {\n        \"dtype\": \"number\",\n        \"std\": 0.0580137300391528,\n        \"min\": 0.3874350800670978,\n        \"max\": 1.0,\n        \"num_unique_values\": 16246,\n        \"samples\": [\n          0.701996613642576,\n          0.735645836569907,\n          0.7631083693371431\n        ],\n        \"semantic_type\": \"\",\n        \"description\": \"\"\n      }\n    },\n    {\n      \"column\": \"Roundness\",\n      \"properties\": {\n        \"dtype\": \"number\",\n        \"std\": 0.07439655763327434,\n        \"min\": 0.19297099022212358,\n        \"max\": 1.0,\n        \"num_unique_values\": 18184,\n        \"samples\": [\n          0.7056300208419112,\n          0.7186526251707633,\n          0.7139689566430905\n        ],\n        \"semantic_type\": \"\",\n        \"description\": \"\"\n      }\n    },\n    {\n      \"column\": \"AspectRation\",\n      \"properties\": {\n        \"dtype\": \"number\",\n        \"std\": 0.11115892886588072,\n        \"min\": 0.347183569013861,\n        \"max\": 1.0,\n        \"num_unique_values\": 18185,\n        \"samples\": [\n          0.6409854827075849,\n          0.7213274288408844,\n          0.5953480714800354\n        ],\n        \"semantic_type\": \"\",\n        \"description\": \"\"\n      }\n    },\n    {\n      \"column\": \"Class\",\n      \"properties\": {\n        \"dtype\": \"number\",\n        \"std\": 0.4975991120990263,\n        \"min\": 0.0,\n        \"max\": 1.0,\n        \"num_unique_values\": 2,\n        \"samples\": [\n          0.0,\n          1.0\n        ],\n        \"semantic_type\": \"\",\n        \"description\": \"\"\n      }\n    }\n  ]\n}"
            }
          },
          "metadata": {},
          "execution_count": 7
        }
      ]
    },
    {
      "cell_type": "code",
      "source": [
        "X = np.array(data_df.iloc[:, :-1])\n",
        "Y = np.array(data_df.iloc[:, -1])"
      ],
      "metadata": {
        "id": "BtQsqeOmmDZz"
      },
      "execution_count": null,
      "outputs": []
    },
    {
      "cell_type": "code",
      "source": [
        "X_train, X_test, y_train, y_test = train_test_split(X,Y, test_size=0.3)"
      ],
      "metadata": {
        "id": "TX4XKNQymS_6"
      },
      "execution_count": null,
      "outputs": []
    },
    {
      "cell_type": "code",
      "source": [
        "X_test, X_val, y_test, y_val = train_test_split(X_test, y_test, test_size=0.5)"
      ],
      "metadata": {
        "id": "rK8HBBGmnEId"
      },
      "execution_count": null,
      "outputs": []
    },
    {
      "cell_type": "code",
      "source": [
        "print(X_train.shape)\n",
        "print(X_test.shape)\n",
        "print(X_val.shape)"
      ],
      "metadata": {
        "colab": {
          "base_uri": "https://localhost:8080/"
        },
        "id": "rFbIGWFJnKK9",
        "outputId": "e8d2ad15-c78f-41db-daf6-11e6f35d4e3a"
      },
      "execution_count": null,
      "outputs": [
        {
          "output_type": "stream",
          "name": "stdout",
          "text": [
            "(12729, 10)\n",
            "(2728, 10)\n",
            "(2728, 10)\n"
          ]
        }
      ]
    },
    {
      "cell_type": "code",
      "source": [
        "class dataset(Dataset):\n",
        "  def __init__(self, X, y):\n",
        "    self.X = torch.tensor(X, dtype=torch.float32).to(device)\n",
        "    self.y = torch.tensor(y, dtype=torch.float32).to(device)\n",
        "\n",
        "  def __len__(self):\n",
        "    return len(self.X)\n",
        "\n",
        "  def __getitem__(self, index):\n",
        "    return self.X[index], self.y[index]"
      ],
      "metadata": {
        "id": "hq6_jScmnO9p"
      },
      "execution_count": null,
      "outputs": []
    },
    {
      "cell_type": "code",
      "source": [
        "training_data = dataset(X_train, y_train)\n",
        "validation_data = dataset(X_val, y_val)\n",
        "testing_data = dataset(X_test, y_test)"
      ],
      "metadata": {
        "id": "5NAgdOIEntU6"
      },
      "execution_count": null,
      "outputs": []
    },
    {
      "cell_type": "code",
      "source": [
        "train_dataloader = DataLoader(training_data, batch_size=8, shuffle = True)\n",
        "val_dataloader = DataLoader(validation_data, batch_size=8, shuffle = True)\n",
        "test_dataloader = DataLoader(testing_data, batch_size=8, shuffle = True)"
      ],
      "metadata": {
        "id": "Bab7AWbmn6qF"
      },
      "execution_count": null,
      "outputs": []
    },
    {
      "cell_type": "code",
      "source": [
        "for x,y in train_dataloader:\n",
        "  print(x)\n",
        "  print(\"=====\")\n",
        "  print(y)\n",
        "  break"
      ],
      "metadata": {
        "colab": {
          "base_uri": "https://localhost:8080/"
        },
        "id": "ntGXQIAuEszo",
        "outputId": "2cb16a57-1fca-41df-a48f-1796a8b9679f"
      },
      "execution_count": null,
      "outputs": [
        {
          "output_type": "stream",
          "name": "stdout",
          "text": [
            "tensor([[0.7577, 0.7836, 0.8491, 0.9027, 0.7205, 0.8705, 0.7736, 0.6937, 0.8635,\n",
            "         0.5236],\n",
            "        [0.6308, 0.8902, 0.6197, 0.9822, 0.6008, 0.7942, 0.5311, 0.7054, 0.6951,\n",
            "         0.8150],\n",
            "        [0.6238, 0.7819, 0.6953, 0.9477, 0.5973, 0.7898, 0.6709, 0.6558, 0.7955,\n",
            "         0.6381],\n",
            "        [0.6548, 0.8181, 0.7017, 0.9540, 0.6210, 0.8092, 0.7589, 0.6788, 0.7792,\n",
            "         0.6614],\n",
            "        [0.6419, 0.8483, 0.6721, 0.9662, 0.6157, 0.8012, 0.5390, 0.6919, 0.7354,\n",
            "         0.7161],\n",
            "        [0.5979, 0.8446, 0.6196, 0.9762, 0.5669, 0.7733, 0.6743, 0.6746, 0.7205,\n",
            "         0.7733],\n",
            "        [0.7440, 0.8417, 0.7746, 0.9413, 0.7109, 0.8625, 0.6176, 0.7122, 0.8043,\n",
            "         0.6165],\n",
            "        [0.8511, 0.8829, 0.8436, 0.9336, 0.8140, 0.9226, 0.7432, 0.7539, 0.8213,\n",
            "         0.5938]])\n",
            "=====\n",
            "tensor([0., 1., 1., 1., 1., 1., 0., 0.])\n"
          ]
        }
      ]
    },
    {
      "cell_type": "code",
      "source": [
        "class MyModel(nn.Module):\n",
        "  def __init__(self):\n",
        "    super(MyModel, self).__init__()\n",
        "\n",
        "    self.input_layer = nn.Linear(X.shape[1], 10)\n",
        "    self.linear = nn.Linear(10,1)\n",
        "    self.sigmoid = nn.Sigmoid()\n",
        "\n",
        "  def forward(self,x):\n",
        "    x = self.input_layer(x)\n",
        "    x = self.linear(x)\n",
        "    x = self.sigmoid(x)\n",
        "    return x"
      ],
      "metadata": {
        "id": "Nt5NMIgUE0JX"
      },
      "execution_count": null,
      "outputs": []
    },
    {
      "cell_type": "code",
      "source": [
        "model = MyModel().to(device)"
      ],
      "metadata": {
        "id": "aDy06-JKFjn-"
      },
      "execution_count": null,
      "outputs": []
    },
    {
      "cell_type": "code",
      "source": [
        "summary(model, (X.shape[1],))"
      ],
      "metadata": {
        "colab": {
          "base_uri": "https://localhost:8080/"
        },
        "id": "94uvT1s0GS1t",
        "outputId": "f25aaaf0-c93b-4696-de52-76d8c290ed82"
      },
      "execution_count": null,
      "outputs": [
        {
          "output_type": "stream",
          "name": "stdout",
          "text": [
            "----------------------------------------------------------------\n",
            "        Layer (type)               Output Shape         Param #\n",
            "================================================================\n",
            "            Linear-1                   [-1, 10]             110\n",
            "            Linear-2                    [-1, 1]              11\n",
            "           Sigmoid-3                    [-1, 1]               0\n",
            "================================================================\n",
            "Total params: 121\n",
            "Trainable params: 121\n",
            "Non-trainable params: 0\n",
            "----------------------------------------------------------------\n",
            "Input size (MB): 0.00\n",
            "Forward/backward pass size (MB): 0.00\n",
            "Params size (MB): 0.00\n",
            "Estimated Total Size (MB): 0.00\n",
            "----------------------------------------------------------------\n"
          ]
        }
      ]
    },
    {
      "cell_type": "code",
      "source": [
        "criterion = nn.BCELoss()\n",
        "optimizer = Adam(model.parameters(), lr = 1e-3)"
      ],
      "metadata": {
        "id": "VZUfndwkGihI"
      },
      "execution_count": null,
      "outputs": []
    },
    {
      "cell_type": "code",
      "source": [
        "total_loss_train_plot = []\n",
        "total_loss_validation_plot = []\n",
        "total_acc_train_plot = []\n",
        "total_acc_validation_plot = []\n",
        "\n",
        "\n",
        "epochs = 10\n",
        "for epoch in range(epochs):\n",
        "  total_loss_train = 0\n",
        "  total_loss_validation = 0\n",
        "  total_acc_train = 0\n",
        "  total_acc_validation = 0\n",
        "\n",
        "  for data in train_dataloader:\n",
        "    inputs, labels = data\n",
        "    prediction = model(inputs).squeeze(1)\n",
        "\n",
        "    batch_loss = criterion(prediction,labels)\n",
        "    total_loss_train += batch_loss.item()\n",
        "    acc = ((prediction).round() == labels).sum().item()\n",
        "    total_acc_train += acc\n",
        "\n",
        "    batch_loss.backward()\n",
        "    optimizer.step()\n",
        "    optimizer.zero_grad()\n",
        "\n",
        "  with torch.no_grad():\n",
        "    for data in val_dataloader:\n",
        "      inputs, labels = data\n",
        "      prediction = model(inputs).squeeze(1)\n",
        "      batch_loss = criterion(prediction, labels)\n",
        "\n",
        "      total_loss_validation += batch_loss.item()\n",
        "      acc = ((prediction).round() == labels).sum().item()\n",
        "      total_acc_validation += acc\n",
        "  total_loss_train_plot.append(round(total_loss_train/1000,4))\n",
        "  total_loss_validation_plot.append(round(total_loss_validation/1000,4))\n",
        "\n",
        "  total_acc_train_plot.append(round(total_acc_train/training_data.__len__()*100,4))\n",
        "  total_acc_validation_plot.append(round(total_acc_validation/validation_data.__len__()*100,4))\n",
        "\n",
        "  print(f\"Epoch no.:{epoch+1} Train Loss:{round(total_loss_train/1000,4)} Validation Loss:{round(total_loss_validation/1000,4)}\")"
      ],
      "metadata": {
        "colab": {
          "base_uri": "https://localhost:8080/"
        },
        "id": "Xyw_Oj5WGieG",
        "outputId": "75c671f5-9e10-41f9-8237-957097698f53"
      },
      "execution_count": null,
      "outputs": [
        {
          "output_type": "stream",
          "name": "stdout",
          "text": [
            "Epoch no.:1 Train Loss:0.6424 Validation Loss:0.049\n",
            "Epoch no.:2 Train Loss:0.1373 Validation Loss:0.0228\n",
            "Epoch no.:3 Train Loss:0.0833 Validation Loss:0.0181\n",
            "Epoch no.:4 Train Loss:0.0705 Validation Loss:0.0161\n",
            "Epoch no.:5 Train Loss:0.0658 Validation Loss:0.0155\n",
            "Epoch no.:6 Train Loss:0.0637 Validation Loss:0.0158\n",
            "Epoch no.:7 Train Loss:0.0636 Validation Loss:0.0164\n",
            "Epoch no.:8 Train Loss:0.0629 Validation Loss:0.0157\n",
            "Epoch no.:9 Train Loss:0.0621 Validation Loss:0.0174\n",
            "Epoch no.:10 Train Loss:0.0632 Validation Loss:0.0151\n"
          ]
        }
      ]
    },
    {
      "cell_type": "code",
      "source": [
        "with torch.no_grad():\n",
        "  total_loss_test = 0\n",
        "  total_acc_test = 0\n",
        "\n",
        "  for data in test_dataloader:\n",
        "    inputs, labels = data\n",
        "    prediction = model(inputs).squeeze(1)\n",
        "\n",
        "    batch_loss_test = criterion(prediction, labels).item()\n",
        "    total_loss_test += batch_loss_test\n",
        "    acc = ((prediction).round() == labels).sum().item()\n",
        "\n",
        "    total_acc_test += acc\n",
        "\n",
        "print(\"Accuracy\", round(total_acc_test/testing_data.__len__() * 100,4))"
      ],
      "metadata": {
        "colab": {
          "base_uri": "https://localhost:8080/"
        },
        "id": "K_q1VUrLGia9",
        "outputId": "89e453ec-43fd-4184-9787-663c2da62176"
      },
      "execution_count": null,
      "outputs": [
        {
          "output_type": "stream",
          "name": "stdout",
          "text": [
            "Accuracy 98.1672\n"
          ]
        }
      ]
    },
    {
      "cell_type": "code",
      "source": [
        "fig, axes = plt.subplots(nrows = 1, ncols = 2, figsize = (15,5))\n",
        "\n",
        "axes[0].plot(total_loss_train_plot, label = 'Training Loss')\n",
        "axes[0].plot(total_loss_validation_plot, label = 'Validation Loss')\n",
        "axes[0].set_xlabel('Epochs')\n",
        "axes[0].set_ylabel('Loss')\n",
        "\n",
        "\n",
        "axes[1].plot(total_acc_train_plot, label = 'Training Accuracy')\n",
        "axes[1].plot(total_acc_validation_plot, label = 'Validation  Accuracy')\n",
        "axes[1].set_xlabel('Epochs')\n",
        "axes[1].set_ylabel('Accuracy')\n"
      ],
      "metadata": {
        "colab": {
          "base_uri": "https://localhost:8080/",
          "height": 296
        },
        "id": "e8wPDzv-QorB",
        "outputId": "deff9a0c-4a11-4981-c66e-b792e598c0c4"
      },
      "execution_count": null,
      "outputs": [
        {
          "output_type": "execute_result",
          "data": {
            "text/plain": [
              "Text(0, 0.5, 'Accuracy')"
            ]
          },
          "metadata": {},
          "execution_count": 50
        },
        {
          "output_type": "display_data",
          "data": {
            "text/plain": [
              "<Figure size 1500x500 with 2 Axes>"
            ],
            "image/png": "[encoded data removed]"
          },
          "metadata": {}
        }
      ]
    },
    {
      "cell_type": "code",
      "source": [],
      "metadata": {
        "id": "zqOA8XdqQooD"
      },
      "execution_count": null,
      "outputs": []
    },
    {
      "cell_type": "code",
      "source": [],
      "metadata": {
        "id": "1KVOa_EIQpBo"
      },
      "execution_count": null,
      "outputs": []
    }
  ]
}