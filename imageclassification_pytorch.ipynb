{
  "nbformat": 4,
  "nbformat_minor": 0,
  "metadata": {
    "colab": {
      "provenance": [],
      "gpuType": "T4",
      "authorship_tag": "ABX9TyON7mt3EqxPg3PQ9zrxPrmv",
      "include_colab_link": true
    },
    "kernelspec": {
      "name": "python3",
      "display_name": "Python 3"
    },
    "language_info": {
      "name": "python"
    },
    "accelerator": "GPU"
  },
  "cells": [
    {
      "cell_type": "markdown",
      "metadata": {
        "id": "view-in-github",
        "colab_type": "text"
      },
      "source": [
        "<a href=\"https://colab.research.google.com/github/Shouvik-7/Pytorch_examples/blob/main/imageclassification_pytorch.ipynb\" target=\"_parent\"><img src=\"https://colab.research.google.com/assets/colab-badge.svg\" alt=\"Open In Colab\"/></a>"
      ]
    },
    {
      "cell_type": "code",
      "execution_count": null,
      "metadata": {
        "id": "xMQmxm6OtcB1"
      },
      "outputs": [],
      "source": [
        "import pandas as pd\n",
        "from sklearn.model_selection import train_test_split\n",
        "import torch\n",
        "from torch.utils.data import Dataset, DataLoader\n",
        "import torch.nn as nn\n",
        "import torch.optim as optim\n",
        "import matplotlib.pyplot as plt"
      ]
    },
    {
      "cell_type": "code",
      "source": [
        "torch.manual_seed(42)"
      ],
      "metadata": {
        "colab": {
          "base_uri": "https://localhost:8080/"
        },
        "id": "j_MEw1ejt9ry",
        "outputId": "295e8c4d-51dc-4e53-ca5d-bf47e620d822"
      },
      "execution_count": null,
      "outputs": [
        {
          "output_type": "execute_result",
          "data": {
            "text/plain": [
              "<torch._C.Generator at 0x7cb92077d2b0>"
            ]
          },
          "metadata": {},
          "execution_count": 2
        }
      ]
    },
    {
      "cell_type": "code",
      "source": [
        "device = torch.device('cuda' if torch.cuda.is_available() else 'cpu')"
      ],
      "metadata": {
        "id": "zqTb3PRvt_9r"
      },
      "execution_count": null,
      "outputs": []
    },
    {
      "cell_type": "code",
      "source": [
        "df = pd.read_csv('/content/fmnist_small.csv')"
      ],
      "metadata": {
        "id": "Z9X9O-CUuHFX"
      },
      "execution_count": null,
      "outputs": []
    },
    {
      "cell_type": "code",
      "source": [
        "df.head()"
      ],
      "metadata": {
        "colab": {
          "base_uri": "https://localhost:8080/",
          "height": 255
        },
        "id": "6PpRoOfI4UzS",
        "outputId": "3a245496-0b50-4745-e17c-0c9b07c657ba"
      },
      "execution_count": null,
      "outputs": [
        {
          "output_type": "execute_result",
          "data": {
            "text/plain": [
              "   label  pixel1  pixel2  pixel3  pixel4  pixel5  pixel6  pixel7  pixel8  \\\n",
              "0      9       0       0       0       0       0       0       0       0   \n",
              "1      7       0       0       0       0       0       0       0       0   \n",
              "2      0       0       0       0       0       0       1       0       0   \n",
              "3      8       0       0       0       0       0       0       0       0   \n",
              "4      8       0       0       0       0       0       0       0       0   \n",
              "\n",
              "   pixel9  ...  pixel775  pixel776  pixel777  pixel778  pixel779  pixel780  \\\n",
              "0       0  ...         0         7         0        50       205       196   \n",
              "1       0  ...         0         0         0         0         0         0   \n",
              "2       0  ...       142       142       142        21         0         3   \n",
              "3       0  ...         0         0         0         0         0         0   \n",
              "4       0  ...       213       203       174       151       188        10   \n",
              "\n",
              "   pixel781  pixel782  pixel783  pixel784  \n",
              "0       213       165         0         0  \n",
              "1         0         0         0         0  \n",
              "2         0         0         0         0  \n",
              "3         0         0         0         0  \n",
              "4         0         0         0         0  \n",
              "\n",
              "[5 rows x 785 columns]"
            ],
            "text/html": [
              "\n",
              "  <div id=\"df-75f2cdec-85d6-4f4a-ba61-b03b3f04ed69\" class=\"colab-df-container\">\n",
              "    <div>\n",
              "<style scoped>\n",
              "    .dataframe tbody tr th:only-of-type {\n",
              "        vertical-align: middle;\n",
              "    }\n",
              "\n",
              "    .dataframe tbody tr th {\n",
              "        vertical-align: top;\n",
              "    }\n",
              "\n",
              "    .dataframe thead th {\n",
              "        text-align: right;\n",
              "    }\n",
              "</style>\n",
              "<table border=\"1\" class=\"dataframe\">\n",
              "  <thead>\n",
              "    <tr style=\"text-align: right;\">\n",
              "      <th></th>\n",
              "      <th>label</th>\n",
              "      <th>pixel1</th>\n",
              "      <th>pixel2</th>\n",
              "      <th>pixel3</th>\n",
              "      <th>pixel4</th>\n",
              "      <th>pixel5</th>\n",
              "      <th>pixel6</th>\n",
              "      <th>pixel7</th>\n",
              "      <th>pixel8</th>\n",
              "      <th>pixel9</th>\n",
              "      <th>...</th>\n",
              "      <th>pixel775</th>\n",
              "      <th>pixel776</th>\n",
              "      <th>pixel777</th>\n",
              "      <th>pixel778</th>\n",
              "      <th>pixel779</th>\n",
              "      <th>pixel780</th>\n",
              "      <th>pixel781</th>\n",
              "      <th>pixel782</th>\n",
              "      <th>pixel783</th>\n",
              "      <th>pixel784</th>\n",
              "    </tr>\n",
              "  </thead>\n",
              "  <tbody>\n",
              "    <tr>\n",
              "      <th>0</th>\n",
              "      <td>9</td>\n",
              "      <td>0</td>\n",
              "      <td>0</td>\n",
              "      <td>0</td>\n",
              "      <td>0</td>\n",
              "      <td>0</td>\n",
              "      <td>0</td>\n",
              "      <td>0</td>\n",
              "      <td>0</td>\n",
              "      <td>0</td>\n",
              "      <td>...</td>\n",
              "      <td>0</td>\n",
              "      <td>7</td>\n",
              "      <td>0</td>\n",
              "      <td>50</td>\n",
              "      <td>205</td>\n",
              "      <td>196</td>\n",
              "      <td>213</td>\n",
              "      <td>165</td>\n",
              "      <td>0</td>\n",
              "      <td>0</td>\n",
              "    </tr>\n",
              "    <tr>\n",
              "      <th>1</th>\n",
              "      <td>7</td>\n",
              "      <td>0</td>\n",
              "      <td>0</td>\n",
              "      <td>0</td>\n",
              "      <td>0</td>\n",
              "      <td>0</td>\n",
              "      <td>0</td>\n",
              "      <td>0</td>\n",
              "      <td>0</td>\n",
              "      <td>0</td>\n",
              "      <td>...</td>\n",
              "      <td>0</td>\n",
              "      <td>0</td>\n",
              "      <td>0</td>\n",
              "      <td>0</td>\n",
              "      <td>0</td>\n",
              "      <td>0</td>\n",
              "      <td>0</td>\n",
              "      <td>0</td>\n",
              "      <td>0</td>\n",
              "      <td>0</td>\n",
              "    </tr>\n",
              "    <tr>\n",
              "      <th>2</th>\n",
              "      <td>0</td>\n",
              "      <td>0</td>\n",
              "      <td>0</td>\n",
              "      <td>0</td>\n",
              "      <td>0</td>\n",
              "      <td>0</td>\n",
              "      <td>1</td>\n",
              "      <td>0</td>\n",
              "      <td>0</td>\n",
              "      <td>0</td>\n",
              "      <td>...</td>\n",
              "      <td>142</td>\n",
              "      <td>142</td>\n",
              "      <td>142</td>\n",
              "      <td>21</td>\n",
              "      <td>0</td>\n",
              "      <td>3</td>\n",
              "      <td>0</td>\n",
              "      <td>0</td>\n",
              "      <td>0</td>\n",
              "      <td>0</td>\n",
              "    </tr>\n",
              "    <tr>\n",
              "      <th>3</th>\n",
              "      <td>8</td>\n",
              "      <td>0</td>\n",
              "      <td>0</td>\n",
              "      <td>0</td>\n",
              "      <td>0</td>\n",
              "      <td>0</td>\n",
              "      <td>0</td>\n",
              "      <td>0</td>\n",
              "      <td>0</td>\n",
              "      <td>0</td>\n",
              "      <td>...</td>\n",
              "      <td>0</td>\n",
              "      <td>0</td>\n",
              "      <td>0</td>\n",
              "      <td>0</td>\n",
              "      <td>0</td>\n",
              "      <td>0</td>\n",
              "      <td>0</td>\n",
              "      <td>0</td>\n",
              "      <td>0</td>\n",
              "      <td>0</td>\n",
              "    </tr>\n",
              "    <tr>\n",
              "      <th>4</th>\n",
              "      <td>8</td>\n",
              "      <td>0</td>\n",
              "      <td>0</td>\n",
              "      <td>0</td>\n",
              "      <td>0</td>\n",
              "      <td>0</td>\n",
              "      <td>0</td>\n",
              "      <td>0</td>\n",
              "      <td>0</td>\n",
              "      <td>0</td>\n",
              "      <td>...</td>\n",
              "      <td>213</td>\n",
              "      <td>203</td>\n",
              "      <td>174</td>\n",
              "      <td>151</td>\n",
              "      <td>188</td>\n",
              "      <td>10</td>\n",
              "      <td>0</td>\n",
              "      <td>0</td>\n",
              "      <td>0</td>\n",
              "      <td>0</td>\n",
              "    </tr>\n",
              "  </tbody>\n",
              "</table>\n",
              "<p>5 rows × 785 columns</p>\n",
              "</div>\n",
              "    <div class=\"colab-df-buttons\">\n",
              "\n",
              "  <div class=\"colab-df-container\">\n",
              "    <button class=\"colab-df-convert\" onclick=\"convertToInteractive('df-75f2cdec-85d6-4f4a-ba61-b03b3f04ed69')\"\n",
              "            title=\"Convert this dataframe to an interactive table.\"\n",
              "            style=\"display:none;\">\n",
              "\n",
              "  <svg xmlns=\"http://www.w3.org/2000/svg\" height=\"24px\" viewBox=\"0 -960 960 960\">\n",
              "    <path d=\"M120-120v-720h720v720H120Zm60-500h600v-160H180v160Zm220 220h160v-160H400v160Zm0 220h160v-160H400v160ZM180-400h160v-160H180v160Zm440 0h160v-160H620v160ZM180-180h160v-160H180v160Zm440 0h160v-160H620v160Z\"/>\n",
              "  </svg>\n",
              "    </button>\n",
              "\n",
              "  <style>\n",
              "    .colab-df-container {\n",
              "      display:flex;\n",
              "      gap: 12px;\n",
              "    }\n",
              "\n",
              "    .colab-df-convert {\n",
              "      background-color: #E8F0FE;\n",
              "      border: none;\n",
              "      border-radius: 50%;\n",
              "      cursor: pointer;\n",
              "      display: none;\n",
              "      fill: #1967D2;\n",
              "      height: 32px;\n",
              "      padding: 0 0 0 0;\n",
              "      width: 32px;\n",
              "    }\n",
              "\n",
              "    .colab-df-convert:hover {\n",
              "      background-color: #E2EBFA;\n",
              "      box-shadow: 0px 1px 2px rgba(60, 64, 67, 0.3), 0px 1px 3px 1px rgba(60, 64, 67, 0.15);\n",
              "      fill: #174EA6;\n",
              "    }\n",
              "\n",
              "    .colab-df-buttons div {\n",
              "      margin-bottom: 4px;\n",
              "    }\n",
              "\n",
              "    [theme=dark] .colab-df-convert {\n",
              "      background-color: #3B4455;\n",
              "      fill: #D2E3FC;\n",
              "    }\n",
              "\n",
              "    [theme=dark] .colab-df-convert:hover {\n",
              "      background-color: #434B5C;\n",
              "      box-shadow: 0px 1px 3px 1px rgba(0, 0, 0, 0.15);\n",
              "      filter: drop-shadow(0px 1px 2px rgba(0, 0, 0, 0.3));\n",
              "      fill: #FFFFFF;\n",
              "    }\n",
              "  </style>\n",
              "\n",
              "    <script>\n",
              "      const buttonEl =\n",
              "        document.querySelector('#df-75f2cdec-85d6-4f4a-ba61-b03b3f04ed69 button.colab-df-convert');\n",
              "      buttonEl.style.display =\n",
              "        google.colab.kernel.accessAllowed ? 'block' : 'none';\n",
              "\n",
              "      async function convertToInteractive(key) {\n",
              "        const element = document.querySelector('#df-75f2cdec-85d6-4f4a-ba61-b03b3f04ed69');\n",
              "        const dataTable =\n",
              "          await google.colab.kernel.invokeFunction('convertToInteractive',\n",
              "                                                    [key], {});\n",
              "        if (!dataTable) return;\n",
              "\n",
              "        const docLinkHtml = 'Like what you see? Visit the ' +\n",
              "          '<a target=\"_blank\" href=https://colab.research.google.com/notebooks/data_table.ipynb>data table notebook</a>'\n",
              "          + ' to learn more about interactive tables.';\n",
              "        element.innerHTML = '';\n",
              "        dataTable['output_type'] = 'display_data';\n",
              "        await google.colab.output.renderOutput(dataTable, element);\n",
              "        const docLink = document.createElement('div');\n",
              "        docLink.innerHTML = docLinkHtml;\n",
              "        element.appendChild(docLink);\n",
              "      }\n",
              "    </script>\n",
              "  </div>\n",
              "\n",
              "\n",
              "<div id=\"df-c707051a-77d6-4278-a8b7-6d858a462892\">\n",
              "  <button class=\"colab-df-quickchart\" onclick=\"quickchart('df-c707051a-77d6-4278-a8b7-6d858a462892')\"\n",
              "            title=\"Suggest charts\"\n",
              "            style=\"display:none;\">\n",
              "\n",
              "<svg xmlns=\"http://www.w3.org/2000/svg\" height=\"24px\"viewBox=\"0 0 24 24\"\n",
              "     width=\"24px\">\n",
              "    <g>\n",
              "        <path d=\"M19 3H5c-1.1 0-2 .9-2 2v14c0 1.1.9 2 2 2h14c1.1 0 2-.9 2-2V5c0-1.1-.9-2-2-2zM9 17H7v-7h2v7zm4 0h-2V7h2v10zm4 0h-2v-4h2v4z\"/>\n",
              "    </g>\n",
              "</svg>\n",
              "  </button>\n",
              "\n",
              "<style>\n",
              "  .colab-df-quickchart {\n",
              "      --bg-color: #E8F0FE;\n",
              "      --fill-color: #1967D2;\n",
              "      --hover-bg-color: #E2EBFA;\n",
              "      --hover-fill-color: #174EA6;\n",
              "      --disabled-fill-color: #AAA;\n",
              "      --disabled-bg-color: #DDD;\n",
              "  }\n",
              "\n",
              "  [theme=dark] .colab-df-quickchart {\n",
              "      --bg-color: #3B4455;\n",
              "      --fill-color: #D2E3FC;\n",
              "      --hover-bg-color: #434B5C;\n",
              "      --hover-fill-color: #FFFFFF;\n",
              "      --disabled-bg-color: #3B4455;\n",
              "      --disabled-fill-color: #666;\n",
              "  }\n",
              "\n",
              "  .colab-df-quickchart {\n",
              "    background-color: var(--bg-color);\n",
              "    border: none;\n",
              "    border-radius: 50%;\n",
              "    cursor: pointer;\n",
              "    display: none;\n",
              "    fill: var(--fill-color);\n",
              "    height: 32px;\n",
              "    padding: 0;\n",
              "    width: 32px;\n",
              "  }\n",
              "\n",
              "  .colab-df-quickchart:hover {\n",
              "    background-color: var(--hover-bg-color);\n",
              "    box-shadow: 0 1px 2px rgba(60, 64, 67, 0.3), 0 1px 3px 1px rgba(60, 64, 67, 0.15);\n",
              "    fill: var(--button-hover-fill-color);\n",
              "  }\n",
              "\n",
              "  .colab-df-quickchart-complete:disabled,\n",
              "  .colab-df-quickchart-complete:disabled:hover {\n",
              "    background-color: var(--disabled-bg-color);\n",
              "    fill: var(--disabled-fill-color);\n",
              "    box-shadow: none;\n",
              "  }\n",
              "\n",
              "  .colab-df-spinner {\n",
              "    border: 2px solid var(--fill-color);\n",
              "    border-color: transparent;\n",
              "    border-bottom-color: var(--fill-color);\n",
              "    animation:\n",
              "      spin 1s steps(1) infinite;\n",
              "  }\n",
              "\n",
              "  @keyframes spin {\n",
              "    0% {\n",
              "      border-color: transparent;\n",
              "      border-bottom-color: var(--fill-color);\n",
              "      border-left-color: var(--fill-color);\n",
              "    }\n",
              "    20% {\n",
              "      border-color: transparent;\n",
              "      border-left-color: var(--fill-color);\n",
              "      border-top-color: var(--fill-color);\n",
              "    }\n",
              "    30% {\n",
              "      border-color: transparent;\n",
              "      border-left-color: var(--fill-color);\n",
              "      border-top-color: var(--fill-color);\n",
              "      border-right-color: var(--fill-color);\n",
              "    }\n",
              "    40% {\n",
              "      border-color: transparent;\n",
              "      border-right-color: var(--fill-color);\n",
              "      border-top-color: var(--fill-color);\n",
              "    }\n",
              "    60% {\n",
              "      border-color: transparent;\n",
              "      border-right-color: var(--fill-color);\n",
              "    }\n",
              "    80% {\n",
              "      border-color: transparent;\n",
              "      border-right-color: var(--fill-color);\n",
              "      border-bottom-color: var(--fill-color);\n",
              "    }\n",
              "    90% {\n",
              "      border-color: transparent;\n",
              "      border-bottom-color: var(--fill-color);\n",
              "    }\n",
              "  }\n",
              "</style>\n",
              "\n",
              "  <script>\n",
              "    async function quickchart(key) {\n",
              "      const quickchartButtonEl =\n",
              "        document.querySelector('#' + key + ' button');\n",
              "      quickchartButtonEl.disabled = true;  // To prevent multiple clicks.\n",
              "      quickchartButtonEl.classList.add('colab-df-spinner');\n",
              "      try {\n",
              "        const charts = await google.colab.kernel.invokeFunction(\n",
              "            'suggestCharts', [key], {});\n",
              "      } catch (error) {\n",
              "        console.error('Error during call to suggestCharts:', error);\n",
              "      }\n",
              "      quickchartButtonEl.classList.remove('colab-df-spinner');\n",
              "      quickchartButtonEl.classList.add('colab-df-quickchart-complete');\n",
              "    }\n",
              "    (() => {\n",
              "      let quickchartButtonEl =\n",
              "        document.querySelector('#df-c707051a-77d6-4278-a8b7-6d858a462892 button');\n",
              "      quickchartButtonEl.style.display =\n",
              "        google.colab.kernel.accessAllowed ? 'block' : 'none';\n",
              "    })();\n",
              "  </script>\n",
              "</div>\n",
              "\n",
              "    </div>\n",
              "  </div>\n"
            ],
            "application/vnd.google.colaboratory.intrinsic+json": {
              "type": "dataframe",
              "variable_name": "df"
            }
          },
          "metadata": {},
          "execution_count": 6
        }
      ]
    },
    {
      "cell_type": "code",
      "source": [
        "df.shape"
      ],
      "metadata": {
        "colab": {
          "base_uri": "https://localhost:8080/"
        },
        "id": "9DMP1wM-4VnE",
        "outputId": "acc0409d-9ee2-41a5-cd4d-9b4f1480f499"
      },
      "execution_count": null,
      "outputs": [
        {
          "output_type": "execute_result",
          "data": {
            "text/plain": [
              "(6000, 785)"
            ]
          },
          "metadata": {},
          "execution_count": 7
        }
      ]
    },
    {
      "cell_type": "code",
      "source": [
        "# Create a 4x4 grid of images\n",
        "\n",
        "fig, axes = plt.subplots(4,4, figsize=(10,10))\n",
        "fig.suptitle('First 16 Images', fontsize=16)\n",
        "\n",
        "for i, ax in enumerate(axes.flat):\n",
        "  img = df.iloc[i,1:].values.reshape(28,28)\n",
        "  ax.imshow(img)"
      ],
      "metadata": {
        "colab": {
          "base_uri": "https://localhost:8080/",
          "height": 815
        },
        "id": "LU780mUd4YmW",
        "outputId": "fdba580d-a1d6-454e-b561-fbe8efe053a8"
      },
      "execution_count": null,
      "outputs": [
        {
          "output_type": "display_data",
          "data": {
            "text/plain": [
              "<Figure size 1000x1000 with 16 Axes>"
            ],
            "image/png": "[encoded data removed]"
          },
          "metadata": {}
        }
      ]
    },
    {
      "cell_type": "code",
      "source": [
        "# Train test split\n",
        "\n",
        "X = df.iloc[:, 1:].values\n",
        "y = df.iloc[:, 0].values\n"
      ],
      "metadata": {
        "id": "YdoZrTKM40iq"
      },
      "execution_count": null,
      "outputs": []
    },
    {
      "cell_type": "code",
      "source": [
        "X_train, X_test, y_train, y_test = train_test_split(X,y, test_size=0.2, random_state=42)"
      ],
      "metadata": {
        "id": "gHz1AWVe5CmR"
      },
      "execution_count": null,
      "outputs": []
    },
    {
      "cell_type": "code",
      "source": [
        "X_train = X_train/255.0\n",
        "X_test = X_test/255.0"
      ],
      "metadata": {
        "id": "ZJGmwmgS5Ig3"
      },
      "execution_count": null,
      "outputs": []
    },
    {
      "cell_type": "code",
      "source": [
        "class CustomDataset(Dataset):\n",
        "  def __init__(self, features, labels):\n",
        "    self.features = torch.tensor(features, dtype=torch.float32).reshape(-1,1,28,28)\n",
        "    self.labels = torch.tensor(labels, dtype=torch.long)\n",
        "\n",
        "  def __len__(self):\n",
        "    return len(self.features)\n",
        "\n",
        "  def __getitem__(self,index):\n",
        "    return self.features[index], self.labels[index]"
      ],
      "metadata": {
        "id": "B-4_D7qO5NEr"
      },
      "execution_count": null,
      "outputs": []
    },
    {
      "cell_type": "code",
      "source": [
        "train_dataset = CustomDataset(X_train, y_train)"
      ],
      "metadata": {
        "id": "o8m7159b6ide"
      },
      "execution_count": null,
      "outputs": []
    },
    {
      "cell_type": "code",
      "source": [
        "test_dataset = CustomDataset(X_test, y_test)"
      ],
      "metadata": {
        "id": "l10DCM-l6mXL"
      },
      "execution_count": null,
      "outputs": []
    },
    {
      "cell_type": "code",
      "source": [
        "train_loader = DataLoader(train_dataset, batch_size = 32, shuffle=True, pin_memory=True)\n",
        "test_loader = DataLoader(test_dataset, batch_size = 32, shuffle=True, pin_memory=True)"
      ],
      "metadata": {
        "id": "6XFoJppy6nMW"
      },
      "execution_count": null,
      "outputs": []
    },
    {
      "cell_type": "code",
      "source": [
        "class MyNN(nn.Module):\n",
        "  def __init__(self, input_features):\n",
        "    super().__init__()\n",
        "    self.features = nn.Sequential(\n",
        "        nn.Conv2d(input_features, 32, kernel_size=3, padding='same'),\n",
        "        nn.ReLU(),\n",
        "        nn.BatchNorm2d(32),\n",
        "        nn.MaxPool2d(kernel_size=2, stride=2),\n",
        "        nn.Conv2d(32,64, kernel_size=3, padding='same'),\n",
        "        nn.ReLU(),\n",
        "        nn.BatchNorm2d(64),\n",
        "        nn.MaxPool2d(kernel_size=2, stride=2),\n",
        "    )\n",
        "    self.classifier = nn.Sequential(\n",
        "        nn.Flatten(),\n",
        "        nn.Linear(64*7*7, 128),\n",
        "        nn.ReLU(),\n",
        "        nn.Dropout(p=0.4),\n",
        "        nn.Linear(128,64),\n",
        "        nn.ReLU(),\n",
        "        nn.Linear(64,10)\n",
        "    )\n",
        "  def forward(self, x):\n",
        "    x = self.features(x)\n",
        "    x = self.classifier(x)\n",
        "\n",
        "    return x"
      ],
      "metadata": {
        "id": "u_Dfcrwk7EyI"
      },
      "execution_count": null,
      "outputs": []
    },
    {
      "cell_type": "code",
      "source": [
        "learning_rate = 0.01\n",
        "epochs = 100"
      ],
      "metadata": {
        "id": "bGcDKvw0_ide"
      },
      "execution_count": null,
      "outputs": []
    },
    {
      "cell_type": "code",
      "source": [
        "model = MyNN(1)\n",
        "\n",
        "model.to(device)\n",
        "\n",
        "criterion = nn.CrossEntropyLoss()\n",
        "\n",
        "optimizer = optim.SGD(model.parameters(), lr = learning_rate, weight_decay = 1e-4)"
      ],
      "metadata": {
        "id": "0Dz5dC8C_moY"
      },
      "execution_count": null,
      "outputs": []
    },
    {
      "cell_type": "code",
      "source": [
        "# trainingloop\n",
        "\n",
        "\n",
        "for epoch in range(epochs):\n",
        "  total_epoch_loss = 0\n",
        "\n",
        "  for batch_features, batch_labels in train_loader:\n",
        "\n",
        "    # move data to gpu\n",
        "    batch_features, batch_labels = batch_features.to(device), batch_labels.to(device)\n",
        "\n",
        "    # forward pass\n",
        "    outputs = model(batch_features)\n",
        "\n",
        "    # calculate loss\n",
        "    loss = criterion(outputs, batch_labels)\n",
        "\n",
        "    # backpass\n",
        "    optimizer.zero_grad()\n",
        "    loss.backward()\n",
        "\n",
        "    # update grad\n",
        "    optimizer.step()\n",
        "\n",
        "    total_epoch_loss = total_epoch_loss + loss.item()\n",
        "\n",
        "\n",
        "  avg_loss =total_epoch_loss/len(train_loader)\n",
        "\n",
        "  print(f\"Epoch:{epoch+1}, Loss:{avg_loss}\")\n",
        "\n"
      ],
      "metadata": {
        "colab": {
          "base_uri": "https://localhost:8080/"
        },
        "id": "QQvkjpTl_1N3",
        "outputId": "d3a54296-006a-49c4-9c72-83ce20df2648"
      },
      "execution_count": null,
      "outputs": [
        {
          "output_type": "stream",
          "name": "stdout",
          "text": [
            "Epoch:1, Loss:1.1998835225900015\n",
            "Epoch:2, Loss:0.6413481295108795\n",
            "Epoch:3, Loss:0.5200009894371033\n",
            "Epoch:4, Loss:0.4350504537423452\n",
            "Epoch:5, Loss:0.3780344897508621\n",
            "Epoch:6, Loss:0.32752709433436394\n",
            "Epoch:7, Loss:0.29773234417041144\n",
            "Epoch:8, Loss:0.2622809237241745\n",
            "Epoch:9, Loss:0.23315040722489358\n",
            "Epoch:10, Loss:0.1942909392962853\n",
            "Epoch:11, Loss:0.17840183439354101\n",
            "Epoch:12, Loss:0.15103725435833137\n",
            "Epoch:13, Loss:0.13346904326230288\n",
            "Epoch:14, Loss:0.11444009015957514\n",
            "Epoch:15, Loss:0.09461652673780918\n",
            "Epoch:16, Loss:0.08395710314934453\n",
            "Epoch:17, Loss:0.0775449885862569\n",
            "Epoch:18, Loss:0.05890715654318531\n",
            "Epoch:19, Loss:0.0515219392751654\n",
            "Epoch:20, Loss:0.049457550983255105\n",
            "Epoch:21, Loss:0.04639277130365372\n",
            "Epoch:22, Loss:0.03752012853510678\n",
            "Epoch:23, Loss:0.030167150671283404\n",
            "Epoch:24, Loss:0.02753692797385156\n",
            "Epoch:25, Loss:0.02586451927665621\n",
            "Epoch:26, Loss:0.022627380467019974\n",
            "Epoch:27, Loss:0.020101771182380615\n",
            "Epoch:28, Loss:0.016588246379978955\n",
            "Epoch:29, Loss:0.013867048438017567\n",
            "Epoch:30, Loss:0.015903786436732237\n",
            "Epoch:31, Loss:0.013011970107521241\n",
            "Epoch:32, Loss:0.019221792427512506\n",
            "Epoch:33, Loss:0.014084539991454221\n",
            "Epoch:34, Loss:0.009110075455779831\n",
            "Epoch:35, Loss:0.011121416204453756\n",
            "Epoch:36, Loss:0.013084647450208042\n",
            "Epoch:37, Loss:0.010641867391532287\n",
            "Epoch:38, Loss:0.006807146183564328\n",
            "Epoch:39, Loss:0.010293724989557329\n",
            "Epoch:40, Loss:0.010018447952073378\n",
            "Epoch:41, Loss:0.006494534046117527\n",
            "Epoch:42, Loss:0.0059382535441545765\n",
            "Epoch:43, Loss:0.005454150628356729\n",
            "Epoch:44, Loss:0.005398154138432195\n",
            "Epoch:45, Loss:0.005067778715359358\n",
            "Epoch:46, Loss:0.00683859100487704\n",
            "Epoch:47, Loss:0.005964896052222078\n",
            "Epoch:48, Loss:0.004308614895223097\n",
            "Epoch:49, Loss:0.0044943043506161\n",
            "Epoch:50, Loss:0.004010805975121911\n",
            "Epoch:51, Loss:0.0027602621216404563\n",
            "Epoch:52, Loss:0.006554923818233267\n",
            "Epoch:53, Loss:0.004639804049802478\n",
            "Epoch:54, Loss:0.003951910655305255\n",
            "Epoch:55, Loss:0.003527776021025299\n",
            "Epoch:56, Loss:0.003358240523181545\n",
            "Epoch:57, Loss:0.0037625981421054652\n",
            "Epoch:58, Loss:0.00482853567256825\n",
            "Epoch:59, Loss:0.0027621421934842755\n",
            "Epoch:60, Loss:0.0030367736733266306\n",
            "Epoch:61, Loss:0.0029964805259078274\n",
            "Epoch:62, Loss:0.0030734692183129178\n",
            "Epoch:63, Loss:0.0028756015909311827\n",
            "Epoch:64, Loss:0.003514028176117184\n",
            "Epoch:65, Loss:0.003989586214884184\n",
            "Epoch:66, Loss:0.002720571274063938\n",
            "Epoch:67, Loss:0.002704942343504323\n",
            "Epoch:68, Loss:0.0020613985978707207\n",
            "Epoch:69, Loss:0.002669581899778374\n",
            "Epoch:70, Loss:0.00331739895210679\n",
            "Epoch:71, Loss:0.0019058984213431056\n",
            "Epoch:72, Loss:0.0018540573027955058\n",
            "Epoch:73, Loss:0.00260740781777713\n",
            "Epoch:74, Loss:0.005962485658043685\n",
            "Epoch:75, Loss:0.002867535719415173\n",
            "Epoch:76, Loss:0.002448538537719287\n",
            "Epoch:77, Loss:0.0023036884547036605\n",
            "Epoch:78, Loss:0.0024248147735003536\n",
            "Epoch:79, Loss:0.0025294757767793876\n",
            "Epoch:80, Loss:0.0029637564335765394\n",
            "Epoch:81, Loss:0.0030050242616562173\n",
            "Epoch:82, Loss:0.00201951254576367\n",
            "Epoch:83, Loss:0.0017868488729679182\n",
            "Epoch:84, Loss:0.0015213893121593476\n",
            "Epoch:85, Loss:0.0026732730942603668\n",
            "Epoch:86, Loss:0.002070881418961411\n",
            "Epoch:87, Loss:0.0016840091183257756\n",
            "Epoch:88, Loss:0.0016421164265436044\n",
            "Epoch:89, Loss:0.0020111097396754\n",
            "Epoch:90, Loss:0.0017824068038801973\n",
            "Epoch:91, Loss:0.0018934900736591468\n",
            "Epoch:92, Loss:0.0017937864736207606\n",
            "Epoch:93, Loss:0.0012824503364875757\n",
            "Epoch:94, Loss:0.001563894399344766\n",
            "Epoch:95, Loss:0.0014900495474770045\n",
            "Epoch:96, Loss:0.0015118120654369705\n",
            "Epoch:97, Loss:0.0013274615968596967\n",
            "Epoch:98, Loss:0.0012350334520548737\n",
            "Epoch:99, Loss:0.0020871796977007763\n",
            "Epoch:100, Loss:0.001560425781935919\n"
          ]
        }
      ]
    },
    {
      "cell_type": "code",
      "source": [
        " model.eval()"
      ],
      "metadata": {
        "colab": {
          "base_uri": "https://localhost:8080/"
        },
        "id": "eWMvy2wpA1Ak",
        "outputId": "842c9713-29f6-4ee6-8436-dfc62f8632a8"
      },
      "execution_count": null,
      "outputs": [
        {
          "output_type": "execute_result",
          "data": {
            "text/plain": [
              "MyNN(\n",
              "  (features): Sequential(\n",
              "    (0): Conv2d(1, 32, kernel_size=(3, 3), stride=(1, 1), padding=same)\n",
              "    (1): ReLU()\n",
              "    (2): BatchNorm2d(32, eps=1e-05, momentum=0.1, affine=True, track_running_stats=True)\n",
              "    (3): MaxPool2d(kernel_size=2, stride=2, padding=0, dilation=1, ceil_mode=False)\n",
              "    (4): Conv2d(32, 64, kernel_size=(3, 3), stride=(1, 1), padding=same)\n",
              "    (5): ReLU()\n",
              "    (6): BatchNorm2d(64, eps=1e-05, momentum=0.1, affine=True, track_running_stats=True)\n",
              "    (7): MaxPool2d(kernel_size=2, stride=2, padding=0, dilation=1, ceil_mode=False)\n",
              "  )\n",
              "  (classifier): Sequential(\n",
              "    (0): Flatten(start_dim=1, end_dim=-1)\n",
              "    (1): Linear(in_features=3136, out_features=128, bias=True)\n",
              "    (2): ReLU()\n",
              "    (3): Dropout(p=0.4, inplace=False)\n",
              "    (4): Linear(in_features=128, out_features=64, bias=True)\n",
              "    (5): ReLU()\n",
              "    (6): Linear(in_features=64, out_features=10, bias=True)\n",
              "  )\n",
              ")"
            ]
          },
          "metadata": {},
          "execution_count": 20
        }
      ]
    },
    {
      "cell_type": "code",
      "source": [
        "# evaluation on test data\n",
        "total = 0\n",
        "correct = 0\n",
        "\n",
        "with torch.no_grad():\n",
        "\n",
        "  for batch_features, batch_labels in test_loader:\n",
        "\n",
        "    # move data to gpu\n",
        "    batch_features, batch_labels = batch_features.to(device), batch_labels.to(device)\n",
        "\n",
        "    outputs = model(batch_features)\n",
        "\n",
        "    _, predicted = torch.max(outputs, 1)\n",
        "\n",
        "    total = total + batch_labels.shape[0]\n",
        "\n",
        "    correct = correct + (predicted == batch_labels).sum().item()\n",
        "\n",
        "print(correct/total)"
      ],
      "metadata": {
        "colab": {
          "base_uri": "https://localhost:8080/"
        },
        "id": "VO6xDYS1BfUZ",
        "outputId": "0453c8a6-0ada-438c-9639-2b26c063b755"
      },
      "execution_count": null,
      "outputs": [
        {
          "output_type": "stream",
          "name": "stdout",
          "text": [
            "0.8716666666666667\n"
          ]
        }
      ]
    },
    {
      "cell_type": "code",
      "source": [
        "# evaluation on training data\n",
        "total = 0\n",
        "correct = 0\n",
        "\n",
        "with torch.no_grad():\n",
        "\n",
        "  for batch_features, batch_labels in train_loader:\n",
        "\n",
        "    # move data to gpu\n",
        "    batch_features, batch_labels = batch_features.to(device), batch_labels.to(device)\n",
        "\n",
        "    outputs = model(batch_features)\n",
        "\n",
        "    _, predicted = torch.max(outputs, 1)\n",
        "\n",
        "    total = total + batch_labels.shape[0]\n",
        "\n",
        "    correct = correct + (predicted == batch_labels).sum().item()\n",
        "\n",
        "print(correct/total)"
      ],
      "metadata": {
        "colab": {
          "base_uri": "https://localhost:8080/"
        },
        "id": "YnCqPEynBfMV",
        "outputId": "1ef77f24-6362-4d77-c3e2-bf9a46fe4ad0"
      },
      "execution_count": null,
      "outputs": [
        {
          "output_type": "stream",
          "name": "stdout",
          "text": [
            "1.0\n"
          ]
        }
      ]
    },
    {
      "cell_type": "markdown",
      "source": [],
      "metadata": {
        "id": "HTOiNXgQDsXP"
      }
    },
    {
      "cell_type": "code",
      "source": [],
      "metadata": {
        "id": "6o6Vks7EDslc"
      },
      "execution_count": null,
      "outputs": []
    },
    {
      "cell_type": "markdown",
      "source": [
        "Single image prediction"
      ],
      "metadata": {
        "id": "91sG_StxDsUH"
      }
    },
    {
      "cell_type": "code",
      "source": [
        "img_1 = torch.tensor(df.iloc[0,1:].values, dtype=torch.float32).reshape(-1,1,28,28).to(device)\n",
        "\n",
        "r = model(img_1)"
      ],
      "metadata": {
        "id": "CcCktLwcBfGp"
      },
      "execution_count": null,
      "outputs": []
    },
    {
      "cell_type": "code",
      "source": [
        "r.argmax()"
      ],
      "metadata": {
        "colab": {
          "base_uri": "https://localhost:8080/"
        },
        "id": "qtWmTfLLBfDX",
        "outputId": "46e9b5dc-1da2-45f4-c6c2-a6785e6b6e30"
      },
      "execution_count": null,
      "outputs": [
        {
          "output_type": "execute_result",
          "data": {
            "text/plain": [
              "tensor(9, device='cuda:0')"
            ]
          },
          "metadata": {},
          "execution_count": 34
        }
      ]
    },
    {
      "cell_type": "code",
      "source": [
        "df.iloc[0]['label']"
      ],
      "metadata": {
        "colab": {
          "base_uri": "https://localhost:8080/"
        },
        "id": "4WvGrX5hDox1",
        "outputId": "f95e38d1-9d83-4e22-8305-1cec7157c8fe"
      },
      "execution_count": null,
      "outputs": [
        {
          "output_type": "execute_result",
          "data": {
            "text/plain": [
              "9"
            ]
          },
          "metadata": {},
          "execution_count": 36
        }
      ]
    },
    {
      "cell_type": "code",
      "source": [],
      "metadata": {
        "id": "jOllOosHDy-x"
      },
      "execution_count": null,
      "outputs": []
    },
    {
      "cell_type": "code",
      "source": [],
      "metadata": {
        "id": "vpxn4q67Dy8B"
      },
      "execution_count": null,
      "outputs": []
    },
    {
      "cell_type": "code",
      "source": [],
      "metadata": {
        "id": "91c6iTRGDy44"
      },
      "execution_count": null,
      "outputs": []
    },
    {
      "cell_type": "code",
      "source": [],
      "metadata": {
        "id": "ZH8TyvKqDy16"
      },
      "execution_count": null,
      "outputs": []
    },
    {
      "cell_type": "code",
      "source": [],
      "metadata": {
        "id": "t3dZ5y_9Dyy0"
      },
      "execution_count": null,
      "outputs": []
    },
    {
      "cell_type": "code",
      "source": [],
      "metadata": {
        "id": "rSIkhh9bDyv_"
      },
      "execution_count": null,
      "outputs": []
    },
    {
      "cell_type": "markdown",
      "source": [
        "Transfer learning"
      ],
      "metadata": {
        "id": "etzdlGNiC-A2"
      }
    },
    {
      "cell_type": "code",
      "source": [
        "\n",
        "import torch\n",
        "from torch.utils.data import Dataset, DataLoader\n",
        "import torch.nn as nn\n",
        "import torch.optim as optim\n",
        "import pandas as pd\n",
        "from sklearn.model_selection import train_test_split\n",
        "import matplotlib.pyplot as plt"
      ],
      "metadata": {
        "id": "ajE-xt9qBe-C"
      },
      "execution_count": null,
      "outputs": []
    },
    {
      "cell_type": "code",
      "source": [
        "torch.manual_seed(42)"
      ],
      "metadata": {
        "colab": {
          "base_uri": "https://localhost:8080/"
        },
        "id": "VRWwbHXkFb67",
        "outputId": "4914a47b-ce11-4ad3-9c9d-0d4e904602aa"
      },
      "execution_count": null,
      "outputs": [
        {
          "output_type": "execute_result",
          "data": {
            "text/plain": [
              "<torch._C.Generator at 0x7cb92077d2b0>"
            ]
          },
          "metadata": {},
          "execution_count": 39
        }
      ]
    },
    {
      "cell_type": "code",
      "source": [
        "device = torch.device('cuda' if torch.cuda.is_available() else 'cpu')"
      ],
      "metadata": {
        "id": "nHRe4qm4Ff8e"
      },
      "execution_count": null,
      "outputs": []
    },
    {
      "cell_type": "code",
      "source": [
        "df = pd.read_csv('/content/fmnist_small.csv')"
      ],
      "metadata": {
        "id": "B8ja8NioFhcA"
      },
      "execution_count": null,
      "outputs": []
    },
    {
      "cell_type": "code",
      "source": [
        "# Create a 4x4 grid of images\n",
        "\n",
        "fig, axes = plt.subplots(4,4, figsize=(10,10))\n",
        "fig.suptitle('First 16 Images', fontsize=16)\n",
        "\n",
        "for i, ax in enumerate(axes.flat):\n",
        "  img = df.iloc[i,1:].values.reshape(28,28)\n",
        "  ax.imshow(img)"
      ],
      "metadata": {
        "colab": {
          "base_uri": "https://localhost:8080/",
          "height": 815
        },
        "id": "LXMCIlHBFjKG",
        "outputId": "abb035ae-f574-4e30-b209-b4c9428d2006"
      },
      "execution_count": null,
      "outputs": [
        {
          "output_type": "display_data",
          "data": {
            "text/plain": [
              "<Figure size 1000x1000 with 16 Axes>"
            ],
            "image/png": "[encoded data removed]"
          },
          "metadata": {}
        }
      ]
    },
    {
      "cell_type": "code",
      "source": [
        "# Train test split\n",
        "\n",
        "X = df.iloc[:, 1:].values\n",
        "y = df.iloc[:, 0].values\n"
      ],
      "metadata": {
        "id": "kN9_1pL2FlEj"
      },
      "execution_count": null,
      "outputs": []
    },
    {
      "cell_type": "code",
      "source": [
        "X_train, X_test, y_train, y_test = train_test_split(X, y, test_size=0.2, random_state=42)"
      ],
      "metadata": {
        "id": "5bzLX3VSFnc5"
      },
      "execution_count": null,
      "outputs": []
    },
    {
      "cell_type": "code",
      "source": [
        "# transformations\n",
        "from torchvision.transforms import transforms\n",
        "\n",
        "custom_transform = transforms.Compose([\n",
        "    transforms.Resize(256),\n",
        "    transforms.CenterCrop(224),\n",
        "    transforms.ToTensor(),\n",
        "    transforms.Normalize(mean=[0.485, 0.456, 0.406], std=[0.229, 0.224, 0.225])\n",
        "])"
      ],
      "metadata": {
        "id": "vU3CBeEMFqIn"
      },
      "execution_count": null,
      "outputs": []
    },
    {
      "cell_type": "code",
      "source": [
        "from PIL import Image\n",
        "import numpy as np\n",
        "\n",
        "class CustomDataset(Dataset):\n",
        "\n",
        "  def __init__(self, features, labels, transform):\n",
        "    self.features = features\n",
        "    self.labels = labels\n",
        "    self.transform = transform\n",
        "\n",
        "  def __len__(self):\n",
        "    return len(self.features)\n",
        "\n",
        "  def __getitem__(self, index):\n",
        "\n",
        "    # resize to (28, 28)\n",
        "    image = self.features[index].reshape(28,28)\n",
        "\n",
        "    # change datatype to np.uint8\n",
        "    image = image.astype(np.uint8)\n",
        "\n",
        "    # change black&white to color -> (H,W,C) -> (C,H,W)\n",
        "    image = np.stack([image]*3, axis=-1)\n",
        "\n",
        "    # convert array to PIL image\n",
        "    image = Image.fromarray(image)\n",
        "\n",
        "    # apply transforms\n",
        "    image = self.transform(image)\n",
        "\n",
        "    # return\n",
        "    return image, torch.tensor(self.labels[index], dtype=torch.long)"
      ],
      "metadata": {
        "id": "LmmjNw2JF7Mw"
      },
      "execution_count": null,
      "outputs": []
    },
    {
      "cell_type": "code",
      "source": [
        "train_dataset = CustomDataset(X_train, y_train, transform=custom_transform)"
      ],
      "metadata": {
        "id": "upaU17f1GIta"
      },
      "execution_count": null,
      "outputs": []
    },
    {
      "cell_type": "code",
      "source": [
        "test_dataset = CustomDataset(X_test, y_test, transform=custom_transform)"
      ],
      "metadata": {
        "id": "MCq6lu2AGKwa"
      },
      "execution_count": null,
      "outputs": []
    },
    {
      "cell_type": "code",
      "source": [
        "train_loader = DataLoader(train_dataset, batch_size=32, shuffle=True, pin_memory=True)\n",
        "test_loader = DataLoader(test_dataset, batch_size=32, shuffle=False, pin_memory=True)"
      ],
      "metadata": {
        "id": "5phWNr2PGLkp"
      },
      "execution_count": null,
      "outputs": []
    },
    {
      "cell_type": "code",
      "source": [
        "# fetch the pretrained model\n",
        "\n",
        "import torchvision.models as models\n",
        "\n",
        "vgg16 = models.vgg16(pretrained=True)"
      ],
      "metadata": {
        "colab": {
          "base_uri": "https://localhost:8080/"
        },
        "id": "Kd4HU7XiGMoR",
        "outputId": "e3455c7d-66aa-4cb2-b1b6-de6675f4e329"
      },
      "execution_count": null,
      "outputs": [
        {
          "output_type": "stream",
          "name": "stderr",
          "text": [
            "/usr/local/lib/python3.11/dist-packages/torchvision/models/_utils.py:208: UserWarning: The parameter 'pretrained' is deprecated since 0.13 and may be removed in the future, please use 'weights' instead.\n",
            "  warnings.warn(\n",
            "/usr/local/lib/python3.11/dist-packages/torchvision/models/_utils.py:223: UserWarning: Arguments other than a weight enum or `None` for 'weights' are deprecated since 0.13 and may be removed in the future. The current behavior is equivalent to passing `weights=VGG16_Weights.IMAGENET1K_V1`. You can also use `weights=VGG16_Weights.DEFAULT` to get the most up-to-date weights.\n",
            "  warnings.warn(msg)\n",
            "Downloading: \"https://download.pytorch.org/models/vgg16-397923af.pth\" to /root/.cache/torch/hub/checkpoints/vgg16-397923af.pth\n",
            "100%|██████████| 528M/528M [00:05<00:00, 99.6MB/s]\n"
          ]
        }
      ]
    },
    {
      "cell_type": "code",
      "source": [
        "vgg16"
      ],
      "metadata": {
        "colab": {
          "base_uri": "https://localhost:8080/"
        },
        "id": "ch-o8wurGOBN",
        "outputId": "45eae609-84f2-4652-fc7b-b9fdde6f494a"
      },
      "execution_count": null,
      "outputs": [
        {
          "output_type": "execute_result",
          "data": {
            "text/plain": [
              "VGG(\n",
              "  (features): Sequential(\n",
              "    (0): Conv2d(3, 64, kernel_size=(3, 3), stride=(1, 1), padding=(1, 1))\n",
              "    (1): ReLU(inplace=True)\n",
              "    (2): Conv2d(64, 64, kernel_size=(3, 3), stride=(1, 1), padding=(1, 1))\n",
              "    (3): ReLU(inplace=True)\n",
              "    (4): MaxPool2d(kernel_size=2, stride=2, padding=0, dilation=1, ceil_mode=False)\n",
              "    (5): Conv2d(64, 128, kernel_size=(3, 3), stride=(1, 1), padding=(1, 1))\n",
              "    (6): ReLU(inplace=True)\n",
              "    (7): Conv2d(128, 128, kernel_size=(3, 3), stride=(1, 1), padding=(1, 1))\n",
              "    (8): ReLU(inplace=True)\n",
              "    (9): MaxPool2d(kernel_size=2, stride=2, padding=0, dilation=1, ceil_mode=False)\n",
              "    (10): Conv2d(128, 256, kernel_size=(3, 3), stride=(1, 1), padding=(1, 1))\n",
              "    (11): ReLU(inplace=True)\n",
              "    (12): Conv2d(256, 256, kernel_size=(3, 3), stride=(1, 1), padding=(1, 1))\n",
              "    (13): ReLU(inplace=True)\n",
              "    (14): Conv2d(256, 256, kernel_size=(3, 3), stride=(1, 1), padding=(1, 1))\n",
              "    (15): ReLU(inplace=True)\n",
              "    (16): MaxPool2d(kernel_size=2, stride=2, padding=0, dilation=1, ceil_mode=False)\n",
              "    (17): Conv2d(256, 512, kernel_size=(3, 3), stride=(1, 1), padding=(1, 1))\n",
              "    (18): ReLU(inplace=True)\n",
              "    (19): Conv2d(512, 512, kernel_size=(3, 3), stride=(1, 1), padding=(1, 1))\n",
              "    (20): ReLU(inplace=True)\n",
              "    (21): Conv2d(512, 512, kernel_size=(3, 3), stride=(1, 1), padding=(1, 1))\n",
              "    (22): ReLU(inplace=True)\n",
              "    (23): MaxPool2d(kernel_size=2, stride=2, padding=0, dilation=1, ceil_mode=False)\n",
              "    (24): Conv2d(512, 512, kernel_size=(3, 3), stride=(1, 1), padding=(1, 1))\n",
              "    (25): ReLU(inplace=True)\n",
              "    (26): Conv2d(512, 512, kernel_size=(3, 3), stride=(1, 1), padding=(1, 1))\n",
              "    (27): ReLU(inplace=True)\n",
              "    (28): Conv2d(512, 512, kernel_size=(3, 3), stride=(1, 1), padding=(1, 1))\n",
              "    (29): ReLU(inplace=True)\n",
              "    (30): MaxPool2d(kernel_size=2, stride=2, padding=0, dilation=1, ceil_mode=False)\n",
              "  )\n",
              "  (avgpool): AdaptiveAvgPool2d(output_size=(7, 7))\n",
              "  (classifier): Sequential(\n",
              "    (0): Linear(in_features=25088, out_features=4096, bias=True)\n",
              "    (1): ReLU(inplace=True)\n",
              "    (2): Dropout(p=0.5, inplace=False)\n",
              "    (3): Linear(in_features=4096, out_features=4096, bias=True)\n",
              "    (4): ReLU(inplace=True)\n",
              "    (5): Dropout(p=0.5, inplace=False)\n",
              "    (6): Linear(in_features=4096, out_features=1000, bias=True)\n",
              "  )\n",
              ")"
            ]
          },
          "metadata": {},
          "execution_count": 56
        }
      ]
    },
    {
      "cell_type": "code",
      "source": [
        "for param in vgg16.features.parameters():\n",
        "  param.requires_grad=False"
      ],
      "metadata": {
        "id": "3PzaAfy2GQFx"
      },
      "execution_count": null,
      "outputs": []
    },
    {
      "cell_type": "code",
      "source": [
        "vgg16.classifier = nn.Sequential(\n",
        "    nn.Linear(25088, 1024),\n",
        "    nn.ReLU(),\n",
        "    nn.Dropout(0.5),\n",
        "    nn.Linear(1024, 512),\n",
        "    nn.ReLU(),\n",
        "    nn.Dropout(0.5),\n",
        "    nn.Linear(512, 10)\n",
        ")"
      ],
      "metadata": {
        "id": "p3RdpTXgGS-K"
      },
      "execution_count": null,
      "outputs": []
    },
    {
      "cell_type": "code",
      "source": [
        "vgg16 = vgg16.to(device)"
      ],
      "metadata": {
        "id": "sBYArOxCGWGP"
      },
      "execution_count": null,
      "outputs": []
    },
    {
      "cell_type": "code",
      "source": [
        "learning_rate = 0.01\n",
        "epochs = 100"
      ],
      "metadata": {
        "id": "RvW4af8wGXYK"
      },
      "execution_count": null,
      "outputs": []
    },
    {
      "cell_type": "code",
      "source": [
        "criterion = nn.CrossEntropyLoss()\n",
        "optimizer = optim.Adam(vgg16.classifier.parameters(), lr=learning_rate)"
      ],
      "metadata": {
        "id": "hfqJHIO9GYib"
      },
      "execution_count": null,
      "outputs": []
    },
    {
      "cell_type": "code",
      "source": [
        "# training loop\n",
        "\n",
        "for epoch in range(epochs):\n",
        "\n",
        "  total_epoch_loss = 0\n",
        "\n",
        "  for batch_features, batch_labels in train_loader:\n",
        "\n",
        "    # move data to gpu\n",
        "    batch_features, batch_labels = batch_features.to(device), batch_labels.to(device)\n",
        "\n",
        "    # forward pass\n",
        "    outputs = vgg16(batch_features)\n",
        "\n",
        "    print(outputs.shape)\n",
        "    print(batch_labels.shape)\n",
        "\n",
        "    # calculate loss\n",
        "    loss = criterion(outputs, batch_labels)\n",
        "\n",
        "    # back pass\n",
        "    optimizer.zero_grad()\n",
        "    loss.backward()\n",
        "\n",
        "    # update grads\n",
        "    optimizer.step()\n",
        "\n",
        "    total_epoch_loss = total_epoch_loss + loss.item()\n",
        "\n",
        "    break\n",
        "\n",
        "  avg_loss = total_epoch_loss/len(train_loader)\n",
        "  print(f'Epoch: {epoch + 1} , Loss: {avg_loss}')\n"
      ],
      "metadata": {
        "colab": {
          "base_uri": "https://localhost:8080/"
        },
        "id": "chMEEzDxGaCQ",
        "outputId": "dc53891c-6d76-4449-f1f6-e5fea435e38f"
      },
      "execution_count": null,
      "outputs": [
        {
          "output_type": "stream",
          "name": "stdout",
          "text": [
            "torch.Size([32, 10])\n",
            "torch.Size([32])\n",
            "Epoch: 1 , Loss: 0.01517095406850179\n",
            "torch.Size([32, 10])\n",
            "torch.Size([32])\n",
            "Epoch: 2 , Loss: 0.07863577524820964\n",
            "torch.Size([32, 10])\n",
            "torch.Size([32])\n",
            "Epoch: 3 , Loss: 0.0269612185160319\n",
            "torch.Size([32, 10])\n",
            "torch.Size([32])\n",
            "Epoch: 4 , Loss: 0.021309820810953777\n",
            "torch.Size([32, 10])\n",
            "torch.Size([32])\n",
            "Epoch: 5 , Loss: 0.015273529688517253\n",
            "torch.Size([32, 10])\n",
            "torch.Size([32])\n",
            "Epoch: 6 , Loss: 0.017370452880859377\n",
            "torch.Size([32, 10])\n",
            "torch.Size([32])\n",
            "Epoch: 7 , Loss: 0.01661571502685547\n",
            "torch.Size([32, 10])\n",
            "torch.Size([32])\n",
            "Epoch: 8 , Loss: 0.015948875745137533\n",
            "torch.Size([32, 10])\n",
            "torch.Size([32])\n",
            "Epoch: 9 , Loss: 0.015909457206726076\n",
            "torch.Size([32, 10])\n",
            "torch.Size([32])\n",
            "Epoch: 10 , Loss: 0.01642309824625651\n",
            "torch.Size([32, 10])\n",
            "torch.Size([32])\n",
            "Epoch: 11 , Loss: 0.01564003308614095\n",
            "torch.Size([32, 10])\n",
            "torch.Size([32])\n",
            "Epoch: 12 , Loss: 0.01527731418609619\n",
            "torch.Size([32, 10])\n",
            "torch.Size([32])\n",
            "Epoch: 13 , Loss: 0.015352187156677246\n",
            "torch.Size([32, 10])\n",
            "torch.Size([32])\n",
            "Epoch: 14 , Loss: 0.015202539761861165\n",
            "torch.Size([32, 10])\n",
            "torch.Size([32])\n",
            "Epoch: 15 , Loss: 0.01521735668182373\n",
            "torch.Size([32, 10])\n",
            "torch.Size([32])\n",
            "Epoch: 16 , Loss: 0.015389731725056966\n",
            "torch.Size([32, 10])\n",
            "torch.Size([32])\n",
            "Epoch: 17 , Loss: 0.015461333592732747\n",
            "torch.Size([32, 10])\n",
            "torch.Size([32])\n",
            "Epoch: 18 , Loss: 0.015468810399373372\n",
            "torch.Size([32, 10])\n",
            "torch.Size([32])\n",
            "Epoch: 19 , Loss: 0.01544735590616862\n",
            "torch.Size([32, 10])\n",
            "torch.Size([32])\n",
            "Epoch: 20 , Loss: 0.015465340614318847\n",
            "torch.Size([32, 10])\n",
            "torch.Size([32])\n",
            "Epoch: 21 , Loss: 0.015491641362508139\n",
            "torch.Size([32, 10])\n",
            "torch.Size([32])\n",
            "Epoch: 22 , Loss: 0.015292526880900065\n",
            "torch.Size([32, 10])\n",
            "torch.Size([32])\n",
            "Epoch: 23 , Loss: 0.01518599033355713\n",
            "torch.Size([32, 10])\n",
            "torch.Size([32])\n",
            "Epoch: 24 , Loss: 0.015336982409159343\n",
            "torch.Size([32, 10])\n",
            "torch.Size([32])\n",
            "Epoch: 25 , Loss: 0.015437434514363607\n",
            "torch.Size([32, 10])\n",
            "torch.Size([32])\n",
            "Epoch: 26 , Loss: 0.0153728183110555\n",
            "torch.Size([32, 10])\n",
            "torch.Size([32])\n",
            "Epoch: 27 , Loss: 0.015634624163309734\n",
            "torch.Size([32, 10])\n",
            "torch.Size([32])\n",
            "Epoch: 28 , Loss: 0.015364487965901693\n",
            "torch.Size([32, 10])\n",
            "torch.Size([32])\n",
            "Epoch: 29 , Loss: 0.015306838353474935\n",
            "torch.Size([32, 10])\n",
            "torch.Size([32])\n",
            "Epoch: 30 , Loss: 0.015427727699279786\n",
            "torch.Size([32, 10])\n",
            "torch.Size([32])\n",
            "Epoch: 31 , Loss: 0.015256576538085938\n",
            "torch.Size([32, 10])\n",
            "torch.Size([32])\n",
            "Epoch: 32 , Loss: 0.015291813214619955\n",
            "torch.Size([32, 10])\n",
            "torch.Size([32])\n",
            "Epoch: 33 , Loss: 0.015412495930989584\n",
            "torch.Size([32, 10])\n",
            "torch.Size([32])\n",
            "Epoch: 34 , Loss: 0.015380681355794271\n",
            "torch.Size([32, 10])\n",
            "torch.Size([32])\n",
            "Epoch: 35 , Loss: 0.015368007024129231\n",
            "torch.Size([32, 10])\n",
            "torch.Size([32])\n",
            "Epoch: 36 , Loss: 0.015772700309753418\n",
            "torch.Size([32, 10])\n",
            "torch.Size([32])\n",
            "Epoch: 37 , Loss: 0.01537227471669515\n",
            "torch.Size([32, 10])\n",
            "torch.Size([32])\n",
            "Epoch: 38 , Loss: 0.015478755633036296\n",
            "torch.Size([32, 10])\n",
            "torch.Size([32])\n",
            "Epoch: 39 , Loss: 0.015347350438435872\n",
            "torch.Size([32, 10])\n",
            "torch.Size([32])\n",
            "Epoch: 40 , Loss: 0.01526059627532959\n",
            "torch.Size([32, 10])\n",
            "torch.Size([32])\n",
            "Epoch: 41 , Loss: 0.015265080134073893\n",
            "torch.Size([32, 10])\n",
            "torch.Size([32])\n",
            "Epoch: 42 , Loss: 0.01561667760213216\n",
            "torch.Size([32, 10])\n",
            "torch.Size([32])\n",
            "Epoch: 43 , Loss: 0.015275726318359375\n",
            "torch.Size([32, 10])\n",
            "torch.Size([32])\n",
            "Epoch: 44 , Loss: 0.015272933642069499\n",
            "torch.Size([32, 10])\n",
            "torch.Size([32])\n",
            "Epoch: 45 , Loss: 0.015456066131591797\n",
            "torch.Size([32, 10])\n",
            "torch.Size([32])\n",
            "Epoch: 46 , Loss: 0.015298110644022624\n",
            "torch.Size([32, 10])\n",
            "torch.Size([32])\n",
            "Epoch: 47 , Loss: 0.015424275398254394\n",
            "torch.Size([32, 10])\n",
            "torch.Size([32])\n",
            "Epoch: 48 , Loss: 0.015404601097106934\n",
            "torch.Size([32, 10])\n",
            "torch.Size([32])\n",
            "Epoch: 49 , Loss: 0.015317155520121256\n",
            "torch.Size([32, 10])\n",
            "torch.Size([32])\n",
            "Epoch: 50 , Loss: 0.015331810315450032\n",
            "torch.Size([32, 10])\n",
            "torch.Size([32])\n",
            "Epoch: 51 , Loss: 0.01568536599477132\n",
            "torch.Size([32, 10])\n",
            "torch.Size([32])\n",
            "Epoch: 52 , Loss: 0.015313010215759277\n",
            "torch.Size([32, 10])\n",
            "torch.Size([32])\n",
            "Epoch: 53 , Loss: 0.015341738065083821\n",
            "torch.Size([32, 10])\n",
            "torch.Size([32])\n",
            "Epoch: 54 , Loss: 0.015171613693237305\n",
            "torch.Size([32, 10])\n",
            "torch.Size([32])\n",
            "Epoch: 55 , Loss: 0.015341819127400716\n",
            "torch.Size([32, 10])\n",
            "torch.Size([32])\n",
            "Epoch: 56 , Loss: 0.015323332150777181\n",
            "torch.Size([32, 10])\n",
            "torch.Size([32])\n",
            "Epoch: 57 , Loss: 0.015294777552286783\n",
            "torch.Size([32, 10])\n",
            "torch.Size([32])\n",
            "Epoch: 58 , Loss: 0.015336526234944662\n",
            "torch.Size([32, 10])\n",
            "torch.Size([32])\n",
            "Epoch: 59 , Loss: 0.015376334190368652\n",
            "torch.Size([32, 10])\n",
            "torch.Size([32])\n",
            "Epoch: 60 , Loss: 0.01519404411315918\n",
            "torch.Size([32, 10])\n",
            "torch.Size([32])\n",
            "Epoch: 61 , Loss: 0.01547337849934896\n",
            "torch.Size([32, 10])\n",
            "torch.Size([32])\n",
            "Epoch: 62 , Loss: 0.015528124173482259\n",
            "torch.Size([32, 10])\n",
            "torch.Size([32])\n",
            "Epoch: 63 , Loss: 0.015468465487162271\n",
            "torch.Size([32, 10])\n",
            "torch.Size([32])\n",
            "Epoch: 64 , Loss: 0.015327372550964356\n",
            "torch.Size([32, 10])\n",
            "torch.Size([32])\n",
            "Epoch: 65 , Loss: 0.015356977780659994\n",
            "torch.Size([32, 10])\n",
            "torch.Size([32])\n",
            "Epoch: 66 , Loss: 0.01545122464497884\n",
            "torch.Size([32, 10])\n",
            "torch.Size([32])\n",
            "Epoch: 67 , Loss: 0.01545474370320638\n",
            "torch.Size([32, 10])\n",
            "torch.Size([32])\n",
            "Epoch: 68 , Loss: 0.015403652191162109\n",
            "torch.Size([32, 10])\n",
            "torch.Size([32])\n",
            "Epoch: 69 , Loss: 0.015628312428792316\n",
            "torch.Size([32, 10])\n",
            "torch.Size([32])\n",
            "Epoch: 70 , Loss: 0.015261233647664388\n",
            "torch.Size([32, 10])\n",
            "torch.Size([32])\n",
            "Epoch: 71 , Loss: 0.015459356307983398\n",
            "torch.Size([32, 10])\n",
            "torch.Size([32])\n",
            "Epoch: 72 , Loss: 0.015265105565388997\n",
            "torch.Size([32, 10])\n",
            "torch.Size([32])\n",
            "Epoch: 73 , Loss: 0.015369540850321451\n",
            "torch.Size([32, 10])\n",
            "torch.Size([32])\n",
            "Epoch: 74 , Loss: 0.015315235455830892\n",
            "torch.Size([32, 10])\n",
            "torch.Size([32])\n",
            "Epoch: 75 , Loss: 0.015781323115030926\n",
            "torch.Size([32, 10])\n",
            "torch.Size([32])\n",
            "Epoch: 76 , Loss: 0.015240586598714193\n",
            "torch.Size([32, 10])\n",
            "torch.Size([32])\n",
            "Epoch: 77 , Loss: 0.015312209129333496\n",
            "torch.Size([32, 10])\n",
            "torch.Size([32])\n",
            "Epoch: 78 , Loss: 0.015119938850402833\n",
            "torch.Size([32, 10])\n",
            "torch.Size([32])\n",
            "Epoch: 79 , Loss: 0.015432484944661458\n",
            "torch.Size([32, 10])\n",
            "torch.Size([32])\n",
            "Epoch: 80 , Loss: 0.015325675010681153\n",
            "torch.Size([32, 10])\n",
            "torch.Size([32])\n",
            "Epoch: 81 , Loss: 0.015434927940368652\n",
            "torch.Size([32, 10])\n",
            "torch.Size([32])\n",
            "Epoch: 82 , Loss: 0.015480058987935384\n",
            "torch.Size([32, 10])\n",
            "torch.Size([32])\n",
            "Epoch: 83 , Loss: 0.01561369260152181\n",
            "torch.Size([32, 10])\n",
            "torch.Size([32])\n",
            "Epoch: 84 , Loss: 0.015561470985412598\n",
            "torch.Size([32, 10])\n",
            "torch.Size([32])\n",
            "Epoch: 85 , Loss: 0.015328965187072753\n",
            "torch.Size([32, 10])\n",
            "torch.Size([32])\n",
            "Epoch: 86 , Loss: 0.015214695930480956\n",
            "torch.Size([32, 10])\n",
            "torch.Size([32])\n",
            "Epoch: 87 , Loss: 0.015377702713012696\n",
            "torch.Size([32, 10])\n",
            "torch.Size([32])\n",
            "Epoch: 88 , Loss: 0.01547911802927653\n",
            "torch.Size([32, 10])\n",
            "torch.Size([32])\n",
            "Epoch: 89 , Loss: 0.015310254096984863\n",
            "torch.Size([32, 10])\n",
            "torch.Size([32])\n",
            "Epoch: 90 , Loss: 0.015353914896647135\n",
            "torch.Size([32, 10])\n",
            "torch.Size([32])\n",
            "Epoch: 91 , Loss: 0.015266909599304199\n",
            "torch.Size([32, 10])\n",
            "torch.Size([32])\n",
            "Epoch: 92 , Loss: 0.015514787038167317\n",
            "torch.Size([32, 10])\n",
            "torch.Size([32])\n",
            "Epoch: 93 , Loss: 0.015154019991556803\n",
            "torch.Size([32, 10])\n",
            "torch.Size([32])\n",
            "Epoch: 94 , Loss: 0.015227271715799967\n",
            "torch.Size([32, 10])\n",
            "torch.Size([32])\n",
            "Epoch: 95 , Loss: 0.01535030206044515\n",
            "torch.Size([32, 10])\n",
            "torch.Size([32])\n",
            "Epoch: 96 , Loss: 0.015351982116699218\n",
            "torch.Size([32, 10])\n",
            "torch.Size([32])\n",
            "Epoch: 97 , Loss: 0.015361566543579102\n",
            "torch.Size([32, 10])\n",
            "torch.Size([32])\n",
            "Epoch: 98 , Loss: 0.015252281824747721\n",
            "torch.Size([32, 10])\n",
            "torch.Size([32])\n",
            "Epoch: 99 , Loss: 0.015325363477071125\n",
            "torch.Size([32, 10])\n",
            "torch.Size([32])\n",
            "Epoch: 100 , Loss: 0.015400408109029134\n"
          ]
        }
      ]
    },
    {
      "cell_type": "code",
      "source": [
        "model.eval()"
      ],
      "metadata": {
        "colab": {
          "base_uri": "https://localhost:8080/"
        },
        "id": "pt4oWuCDGbGt",
        "outputId": "ead8f608-d71b-4f52-9908-e145c3c54e74"
      },
      "execution_count": null,
      "outputs": [
        {
          "output_type": "execute_result",
          "data": {
            "text/plain": [
              "MyNN(\n",
              "  (features): Sequential(\n",
              "    (0): Conv2d(1, 32, kernel_size=(3, 3), stride=(1, 1), padding=same)\n",
              "    (1): ReLU()\n",
              "    (2): BatchNorm2d(32, eps=1e-05, momentum=0.1, affine=True, track_running_stats=True)\n",
              "    (3): MaxPool2d(kernel_size=2, stride=2, padding=0, dilation=1, ceil_mode=False)\n",
              "    (4): Conv2d(32, 64, kernel_size=(3, 3), stride=(1, 1), padding=same)\n",
              "    (5): ReLU()\n",
              "    (6): BatchNorm2d(64, eps=1e-05, momentum=0.1, affine=True, track_running_stats=True)\n",
              "    (7): MaxPool2d(kernel_size=2, stride=2, padding=0, dilation=1, ceil_mode=False)\n",
              "  )\n",
              "  (classifier): Sequential(\n",
              "    (0): Flatten(start_dim=1, end_dim=-1)\n",
              "    (1): Linear(in_features=3136, out_features=128, bias=True)\n",
              "    (2): ReLU()\n",
              "    (3): Dropout(p=0.4, inplace=False)\n",
              "    (4): Linear(in_features=128, out_features=64, bias=True)\n",
              "    (5): ReLU()\n",
              "    (6): Linear(in_features=64, out_features=10, bias=True)\n",
              "  )\n",
              ")"
            ]
          },
          "metadata": {},
          "execution_count": 73
        }
      ]
    },
    {
      "cell_type": "code",
      "source": [
        "# evaluation on test data\n",
        "total = 0\n",
        "correct = 0\n",
        "\n",
        "with torch.no_grad():\n",
        "\n",
        "  for batch_features, batch_labels in test_loader:\n",
        "\n",
        "    # move data to gpu\n",
        "    batch_features, batch_labels = batch_features.to(device), batch_labels.to(device)\n",
        "\n",
        "    outputs = vgg16(batch_features)\n",
        "\n",
        "    _, predicted = torch.max(outputs, 1)\n",
        "\n",
        "    total = total + batch_labels.shape[0]\n",
        "\n",
        "    correct = correct + (predicted == batch_labels).sum().item()\n",
        "\n",
        "print(correct/total)"
      ],
      "metadata": {
        "colab": {
          "base_uri": "https://localhost:8080/"
        },
        "id": "o94F6oqUGeM1",
        "outputId": "bf8708e2-8120-4b1c-f8e8-b360a99a8f9d"
      },
      "execution_count": null,
      "outputs": [
        {
          "output_type": "stream",
          "name": "stdout",
          "text": [
            "0.09666666666666666\n"
          ]
        }
      ]
    },
    {
      "cell_type": "code",
      "source": [],
      "metadata": {
        "id": "7aGwc9tUGfh-"
      },
      "execution_count": null,
      "outputs": []
    }
  ]
}